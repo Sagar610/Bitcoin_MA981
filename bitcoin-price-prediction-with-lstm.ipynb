{
  "nbformat": 4,
  "nbformat_minor": 5,
  "metadata": {
    "kernelspec": {
      "display_name": "Python 3",
      "language": "python",
      "name": "python3"
    },
    "language_info": {
      "codemirror_mode": {
        "name": "ipython",
        "version": 3
      },
      "file_extension": ".py",
      "mimetype": "text/x-python",
      "name": "python",
      "nbconvert_exporter": "python",
      "pygments_lexer": "ipython3",
      "version": "3.8.8"
    },
    "papermill": {
      "default_parameters": {},
      "duration": 155.774638,
      "end_time": "2021-11-09T08:24:56.343239",
      "environment_variables": {},
      "exception": null,
      "input_path": "__notebook__.ipynb",
      "output_path": "__notebook__.ipynb",
      "parameters": {},
      "start_time": "2021-11-09T08:22:20.568601",
      "version": "2.3.3"
    },
    "colab": {
      "name": "bitcoin-price-prediction-with-lstm.ipynb",
      "provenance": []
    }
  },
  "cells": [
    {
      "cell_type": "code",
      "metadata": {
        "execution": {
          "iopub.execute_input": "2021-11-09T08:22:29.385315Z",
          "iopub.status.busy": "2021-11-09T08:22:29.384708Z",
          "iopub.status.idle": "2021-11-09T08:22:37.325011Z",
          "shell.execute_reply": "2021-11-09T08:22:37.325524Z",
          "shell.execute_reply.started": "2021-11-09T08:11:07.476205Z"
        },
        "papermill": {
          "duration": 7.986193,
          "end_time": "2021-11-09T08:22:37.325835",
          "exception": false,
          "start_time": "2021-11-09T08:22:29.339642",
          "status": "completed"
        },
        "tags": [],
        "id": "94bd2b0c"
      },
      "source": [
        "import warnings\n",
        "warnings.filterwarnings('ignore')\n",
        "import os\n",
        "import pandas as pd\n",
        "import numpy as np\n",
        "import math\n",
        "import datetime as dt\n",
        "import matplotlib.pyplot as plt\n",
        "\n",
        "from sklearn.metrics import mean_squared_error, mean_absolute_error, explained_variance_score, r2_score \n",
        "from sklearn.metrics import mean_poisson_deviance, mean_gamma_deviance, accuracy_score\n",
        "from sklearn.preprocessing import MinMaxScaler\n",
        "\n",
        "from itertools import product\n",
        "import statsmodels.api as sm\n",
        "\n",
        "import tensorflow as tf\n",
        "\n",
        "from tensorflow.keras.models import Sequential\n",
        "from tensorflow.keras.layers import Dense, Dropout\n",
        "from tensorflow.keras.layers import LSTM\n",
        "\n",
        "from itertools import cycle\n",
        "import plotly.offline as py\n",
        "import plotly.graph_objects as go\n",
        "import plotly.express as px\n",
        "from plotly.subplots import make_subplots\n",
        "\n",
        "plt.style.use('seaborn-darkgrid')"
      ],
      "id": "94bd2b0c",
      "execution_count": 41,
      "outputs": []
    },
    {
      "cell_type": "markdown",
      "metadata": {
        "papermill": {
          "duration": 0.035769,
          "end_time": "2021-11-09T08:22:37.397747",
          "exception": false,
          "start_time": "2021-11-09T08:22:37.361978",
          "status": "completed"
        },
        "tags": [],
        "id": "550149fd"
      },
      "source": [
        "# Transformation of time series into supervision problems\n",
        "\n",
        "Time series data needs to be prepared before training a supervised learning model (such as LSTM neural network). For example, a unary time series is represented as an observation vector:\n",
        "\n",
        "```\n",
        "[1, 2, 3, 4, 5, 6, 7, 8, 9, 10]\n",
        "\n",
        "```\n",
        "\n",
        "The supervised learning algorithm requires data to be provided as a set of samples, where each sample has an input component X and an output component y. The model will learn how to map input to output from the provided examples.\n",
        "\n",
        "\n",
        "The time series must be converted into samples with input and output components .  For a univariate time series problem that is interested in one-step forecasting, you can use the observations at the previous time point as input and the observations at the current time point as the output. For example, the above 10-step univariate sequence can be expressed as a supervised learning problem, the input is 3 time steps, and the output is 1 time step, as shown below:\n",
        "\n",
        "X *******   Y\n",
        "\n",
        "===============\n",
        " \n",
        "[1, 2, 3],  [4]\n",
        "\n",
        "[2, 3, 4],  [5]\n",
        "\n",
        "[3, 4, 5],  [6]"
      ],
      "id": "550149fd"
    },
    {
      "cell_type": "code",
      "metadata": {
        "execution": {
          "iopub.execute_input": "2021-11-09T08:22:37.474046Z",
          "iopub.status.busy": "2021-11-09T08:22:37.473162Z",
          "iopub.status.idle": "2021-11-09T08:22:43.282686Z",
          "shell.execute_reply": "2021-11-09T08:22:43.283134Z",
          "shell.execute_reply.started": "2021-11-09T07:52:07.794604Z"
        },
        "papermill": {
          "duration": 5.849088,
          "end_time": "2021-11-09T08:22:43.283293",
          "exception": false,
          "start_time": "2021-11-09T08:22:37.434205",
          "status": "completed"
        },
        "tags": [],
        "id": "300b773c",
        "outputId": "7521f0c8-2656-4e7e-c0b5-fe0267e25f3d",
        "colab": {
          "base_uri": "https://localhost:8080/",
          "height": 204
        }
      },
      "source": [
        "# Google Drive Root Path\n",
        "# root_path = '/content/drive/MyDrive/Datasets_For_Working/Bitcoin_2015-2021-30-Oct-2021/3_pull.csv'\n",
        "\n",
        "# Local Machine Root Path\n",
        "# root_path = './input/btc_ohlc_Oct_2015_to_Oct_2021.csv'\n",
        "\n",
        "# Kaggle Root Path\n",
        "#root_path = '/kaggle/input/bitcoin-historic-prices-from-oct2015-to-oct2021/btc_ohlc_Oct_2015_to_Oct_2021.csv'\n",
        "root_path = '/content/BTC15_21.csv'\n",
        "\n",
        "\n",
        "# btc_input_df = pd.read_csv(root_path, nrows=500)\n",
        "btc_input_df = pd.read_csv(root_path)\n",
        "btc_input_df.tail()"
      ],
      "id": "300b773c",
      "execution_count": 42,
      "outputs": [
        {
          "output_type": "execute_result",
          "data": {
            "text/html": [
              "<div>\n",
              "<style scoped>\n",
              "    .dataframe tbody tr th:only-of-type {\n",
              "        vertical-align: middle;\n",
              "    }\n",
              "\n",
              "    .dataframe tbody tr th {\n",
              "        vertical-align: top;\n",
              "    }\n",
              "\n",
              "    .dataframe thead th {\n",
              "        text-align: right;\n",
              "    }\n",
              "</style>\n",
              "<table border=\"1\" class=\"dataframe\">\n",
              "  <thead>\n",
              "    <tr style=\"text-align: right;\">\n",
              "      <th></th>\n",
              "      <th>time</th>\n",
              "      <th>low</th>\n",
              "      <th>high</th>\n",
              "      <th>open</th>\n",
              "      <th>close</th>\n",
              "      <th>volume</th>\n",
              "    </tr>\n",
              "  </thead>\n",
              "  <tbody>\n",
              "    <tr>\n",
              "      <th>3113271</th>\n",
              "      <td>2015-10-27 00:04:00</td>\n",
              "      <td>287.07</td>\n",
              "      <td>287.07</td>\n",
              "      <td>287.07</td>\n",
              "      <td>287.07</td>\n",
              "      <td>0.08610</td>\n",
              "    </tr>\n",
              "    <tr>\n",
              "      <th>3113272</th>\n",
              "      <td>2015-10-27 00:03:00</td>\n",
              "      <td>287.08</td>\n",
              "      <td>287.09</td>\n",
              "      <td>287.08</td>\n",
              "      <td>287.09</td>\n",
              "      <td>0.55440</td>\n",
              "    </tr>\n",
              "    <tr>\n",
              "      <th>3113273</th>\n",
              "      <td>2015-10-27 00:02:00</td>\n",
              "      <td>286.89</td>\n",
              "      <td>287.10</td>\n",
              "      <td>287.10</td>\n",
              "      <td>286.89</td>\n",
              "      <td>72.40320</td>\n",
              "    </tr>\n",
              "    <tr>\n",
              "      <th>3113274</th>\n",
              "      <td>2015-10-27 00:01:00</td>\n",
              "      <td>287.09</td>\n",
              "      <td>287.09</td>\n",
              "      <td>287.09</td>\n",
              "      <td>287.09</td>\n",
              "      <td>0.82276</td>\n",
              "    </tr>\n",
              "    <tr>\n",
              "      <th>3113275</th>\n",
              "      <td>2015-10-27 00:00:00</td>\n",
              "      <td>287.10</td>\n",
              "      <td>287.10</td>\n",
              "      <td>287.10</td>\n",
              "      <td>287.10</td>\n",
              "      <td>0.53620</td>\n",
              "    </tr>\n",
              "  </tbody>\n",
              "</table>\n",
              "</div>"
            ],
            "text/plain": [
              "                        time     low    high    open   close    volume\n",
              "3113271  2015-10-27 00:04:00  287.07  287.07  287.07  287.07   0.08610\n",
              "3113272  2015-10-27 00:03:00  287.08  287.09  287.08  287.09   0.55440\n",
              "3113273  2015-10-27 00:02:00  286.89  287.10  287.10  286.89  72.40320\n",
              "3113274  2015-10-27 00:01:00  287.09  287.09  287.09  287.09   0.82276\n",
              "3113275  2015-10-27 00:00:00  287.10  287.10  287.10  287.10   0.53620"
            ]
          },
          "metadata": {},
          "execution_count": 42
        }
      ]
    },
    {
      "cell_type": "code",
      "metadata": {
        "execution": {
          "iopub.execute_input": "2021-11-09T08:22:43.362263Z",
          "iopub.status.busy": "2021-11-09T08:22:43.361494Z",
          "iopub.status.idle": "2021-11-09T08:22:43.365135Z",
          "shell.execute_reply": "2021-11-09T08:22:43.364507Z",
          "shell.execute_reply.started": "2021-11-09T07:52:13.797881Z"
        },
        "papermill": {
          "duration": 0.04578,
          "end_time": "2021-11-09T08:22:43.365263",
          "exception": false,
          "start_time": "2021-11-09T08:22:43.319483",
          "status": "completed"
        },
        "tags": [],
        "id": "afda0fee",
        "outputId": "1ecbe08c-e178-472c-d3f3-a28ecb4247a1",
        "colab": {
          "base_uri": "https://localhost:8080/"
        }
      },
      "source": [
        "btc_input_df.shape"
      ],
      "id": "afda0fee",
      "execution_count": 43,
      "outputs": [
        {
          "output_type": "execute_result",
          "data": {
            "text/plain": [
              "(3113276, 6)"
            ]
          },
          "metadata": {},
          "execution_count": 43
        }
      ]
    },
    {
      "cell_type": "code",
      "metadata": {
        "execution": {
          "iopub.execute_input": "2021-11-09T08:22:43.498535Z",
          "iopub.status.busy": "2021-11-09T08:22:43.497364Z",
          "iopub.status.idle": "2021-11-09T08:22:43.958668Z",
          "shell.execute_reply": "2021-11-09T08:22:43.958124Z",
          "shell.execute_reply.started": "2021-11-09T07:52:13.806232Z"
        },
        "papermill": {
          "duration": 0.557005,
          "end_time": "2021-11-09T08:22:43.958818",
          "exception": false,
          "start_time": "2021-11-09T08:22:43.401813",
          "status": "completed"
        },
        "tags": [],
        "id": "8303d1bf",
        "outputId": "e7a304d7-d579-4355-b1c0-cb268d168867",
        "colab": {
          "base_uri": "https://localhost:8080/",
          "height": 297
        }
      },
      "source": [
        "btc_input_df.describe()"
      ],
      "id": "8303d1bf",
      "execution_count": 44,
      "outputs": [
        {
          "output_type": "execute_result",
          "data": {
            "text/html": [
              "<div>\n",
              "<style scoped>\n",
              "    .dataframe tbody tr th:only-of-type {\n",
              "        vertical-align: middle;\n",
              "    }\n",
              "\n",
              "    .dataframe tbody tr th {\n",
              "        vertical-align: top;\n",
              "    }\n",
              "\n",
              "    .dataframe thead th {\n",
              "        text-align: right;\n",
              "    }\n",
              "</style>\n",
              "<table border=\"1\" class=\"dataframe\">\n",
              "  <thead>\n",
              "    <tr style=\"text-align: right;\">\n",
              "      <th></th>\n",
              "      <th>low</th>\n",
              "      <th>high</th>\n",
              "      <th>open</th>\n",
              "      <th>close</th>\n",
              "      <th>volume</th>\n",
              "    </tr>\n",
              "  </thead>\n",
              "  <tbody>\n",
              "    <tr>\n",
              "      <th>count</th>\n",
              "      <td>3.113276e+06</td>\n",
              "      <td>3.113276e+06</td>\n",
              "      <td>3.113276e+06</td>\n",
              "      <td>3.113276e+06</td>\n",
              "      <td>3.113276e+06</td>\n",
              "    </tr>\n",
              "    <tr>\n",
              "      <th>mean</th>\n",
              "      <td>1.152825e+04</td>\n",
              "      <td>1.154230e+04</td>\n",
              "      <td>1.153537e+04</td>\n",
              "      <td>1.153541e+04</td>\n",
              "      <td>9.689568e+00</td>\n",
              "    </tr>\n",
              "    <tr>\n",
              "      <th>std</th>\n",
              "      <td>1.490292e+04</td>\n",
              "      <td>1.492446e+04</td>\n",
              "      <td>1.491374e+04</td>\n",
              "      <td>1.491379e+04</td>\n",
              "      <td>2.239875e+01</td>\n",
              "    </tr>\n",
              "    <tr>\n",
              "      <th>min</th>\n",
              "      <td>6.000000e-02</td>\n",
              "      <td>6.000000e-02</td>\n",
              "      <td>6.000000e-02</td>\n",
              "      <td>6.000000e-02</td>\n",
              "      <td>1.000000e-08</td>\n",
              "    </tr>\n",
              "    <tr>\n",
              "      <th>25%</th>\n",
              "      <td>1.849558e+03</td>\n",
              "      <td>1.850000e+03</td>\n",
              "      <td>1.849925e+03</td>\n",
              "      <td>1.849980e+03</td>\n",
              "      <td>1.331197e+00</td>\n",
              "    </tr>\n",
              "    <tr>\n",
              "      <th>50%</th>\n",
              "      <td>7.099990e+03</td>\n",
              "      <td>7.105000e+03</td>\n",
              "      <td>7.102045e+03</td>\n",
              "      <td>7.102060e+03</td>\n",
              "      <td>3.707298e+00</td>\n",
              "    </tr>\n",
              "    <tr>\n",
              "      <th>75%</th>\n",
              "      <td>1.067558e+04</td>\n",
              "      <td>1.068550e+04</td>\n",
              "      <td>1.068027e+04</td>\n",
              "      <td>1.068040e+04</td>\n",
              "      <td>9.761575e+00</td>\n",
              "    </tr>\n",
              "    <tr>\n",
              "      <th>max</th>\n",
              "      <td>6.690000e+04</td>\n",
              "      <td>6.699900e+04</td>\n",
              "      <td>6.694122e+04</td>\n",
              "      <td>6.694122e+04</td>\n",
              "      <td>1.549613e+03</td>\n",
              "    </tr>\n",
              "  </tbody>\n",
              "</table>\n",
              "</div>"
            ],
            "text/plain": [
              "                low          high          open         close        volume\n",
              "count  3.113276e+06  3.113276e+06  3.113276e+06  3.113276e+06  3.113276e+06\n",
              "mean   1.152825e+04  1.154230e+04  1.153537e+04  1.153541e+04  9.689568e+00\n",
              "std    1.490292e+04  1.492446e+04  1.491374e+04  1.491379e+04  2.239875e+01\n",
              "min    6.000000e-02  6.000000e-02  6.000000e-02  6.000000e-02  1.000000e-08\n",
              "25%    1.849558e+03  1.850000e+03  1.849925e+03  1.849980e+03  1.331197e+00\n",
              "50%    7.099990e+03  7.105000e+03  7.102045e+03  7.102060e+03  3.707298e+00\n",
              "75%    1.067558e+04  1.068550e+04  1.068027e+04  1.068040e+04  9.761575e+00\n",
              "max    6.690000e+04  6.699900e+04  6.694122e+04  6.694122e+04  1.549613e+03"
            ]
          },
          "metadata": {},
          "execution_count": 44
        }
      ]
    },
    {
      "cell_type": "code",
      "metadata": {
        "execution": {
          "iopub.execute_input": "2021-11-09T08:22:44.045891Z",
          "iopub.status.busy": "2021-11-09T08:22:44.045249Z",
          "iopub.status.idle": "2021-11-09T08:22:44.047768Z",
          "shell.execute_reply": "2021-11-09T08:22:44.048399Z",
          "shell.execute_reply.started": "2021-11-09T07:52:14.369319Z"
        },
        "papermill": {
          "duration": 0.051665,
          "end_time": "2021-11-09T08:22:44.048558",
          "exception": false,
          "start_time": "2021-11-09T08:22:43.996893",
          "status": "completed"
        },
        "tags": [],
        "id": "3c03cff9",
        "outputId": "6f90502c-7545-475e-938b-3acbdca07bc2",
        "colab": {
          "base_uri": "https://localhost:8080/"
        }
      },
      "source": [
        "btc_input_df.info()"
      ],
      "id": "3c03cff9",
      "execution_count": 45,
      "outputs": [
        {
          "output_type": "stream",
          "name": "stdout",
          "text": [
            "<class 'pandas.core.frame.DataFrame'>\n",
            "RangeIndex: 3113276 entries, 0 to 3113275\n",
            "Data columns (total 6 columns):\n",
            " #   Column  Dtype  \n",
            "---  ------  -----  \n",
            " 0   time    object \n",
            " 1   low     float64\n",
            " 2   high    float64\n",
            " 3   open    float64\n",
            " 4   close   float64\n",
            " 5   volume  float64\n",
            "dtypes: float64(5), object(1)\n",
            "memory usage: 142.5+ MB\n"
          ]
        }
      ]
    },
    {
      "cell_type": "markdown",
      "metadata": {
        "papermill": {
          "duration": 0.038031,
          "end_time": "2021-11-09T08:22:44.124503",
          "exception": false,
          "start_time": "2021-11-09T08:22:44.086472",
          "status": "completed"
        },
        "tags": [],
        "id": "a1d0aafa"
      },
      "source": [
        "# Convert 'time' column from object dtype to datetime dtype\n",
        "\n",
        "From above I can see that the 'time' column is being treated as an object rather than as dates. To fix this, I will use the (pd.to_datetime() function which converts the arguments to dates."
      ],
      "id": "a1d0aafa"
    },
    {
      "cell_type": "code",
      "metadata": {
        "execution": {
          "iopub.execute_input": "2021-11-09T08:22:45.211367Z",
          "iopub.status.busy": "2021-11-09T08:22:45.209919Z",
          "iopub.status.idle": "2021-11-09T08:22:45.259856Z",
          "shell.execute_reply": "2021-11-09T08:22:45.260322Z",
          "shell.execute_reply.started": "2021-11-09T07:52:14.385146Z"
        },
        "papermill": {
          "duration": 1.099083,
          "end_time": "2021-11-09T08:22:45.260495",
          "exception": false,
          "start_time": "2021-11-09T08:22:44.161412",
          "status": "completed"
        },
        "tags": [],
        "id": "e67a49cb"
      },
      "source": [
        "btc_input_df_datetype = btc_input_df.astype({'time': 'datetime64'})"
      ],
      "id": "e67a49cb",
      "execution_count": 46,
      "outputs": []
    },
    {
      "cell_type": "code",
      "metadata": {
        "execution": {
          "iopub.execute_input": "2021-11-09T08:22:45.339999Z",
          "iopub.status.busy": "2021-11-09T08:22:45.339448Z",
          "iopub.status.idle": "2021-11-09T08:22:45.348118Z",
          "shell.execute_reply": "2021-11-09T08:22:45.348933Z",
          "shell.execute_reply.started": "2021-11-09T07:52:15.485196Z"
        },
        "papermill": {
          "duration": 0.050616,
          "end_time": "2021-11-09T08:22:45.349139",
          "exception": false,
          "start_time": "2021-11-09T08:22:45.298523",
          "status": "completed"
        },
        "tags": [],
        "id": "33361baf",
        "outputId": "e8260c19-f9d3-4257-fca7-b5d41faf8010",
        "colab": {
          "base_uri": "https://localhost:8080/"
        }
      },
      "source": [
        "btc_input_df_datetype.info()"
      ],
      "id": "33361baf",
      "execution_count": 47,
      "outputs": [
        {
          "output_type": "stream",
          "name": "stdout",
          "text": [
            "<class 'pandas.core.frame.DataFrame'>\n",
            "RangeIndex: 3113276 entries, 0 to 3113275\n",
            "Data columns (total 6 columns):\n",
            " #   Column  Dtype         \n",
            "---  ------  -----         \n",
            " 0   time    datetime64[ns]\n",
            " 1   low     float64       \n",
            " 2   high    float64       \n",
            " 3   open    float64       \n",
            " 4   close   float64       \n",
            " 5   volume  float64       \n",
            "dtypes: datetime64[ns](1), float64(5)\n",
            "memory usage: 142.5 MB\n"
          ]
        }
      ]
    },
    {
      "cell_type": "code",
      "metadata": {
        "execution": {
          "iopub.execute_input": "2021-11-09T08:22:45.481389Z",
          "iopub.status.busy": "2021-11-09T08:22:45.480796Z",
          "iopub.status.idle": "2021-11-09T08:22:45.587635Z",
          "shell.execute_reply": "2021-11-09T08:22:45.586987Z",
          "shell.execute_reply.started": "2021-11-09T07:52:15.499397Z"
        },
        "papermill": {
          "duration": 0.147312,
          "end_time": "2021-11-09T08:22:45.587809",
          "exception": false,
          "start_time": "2021-11-09T08:22:45.440497",
          "status": "completed"
        },
        "tags": [],
        "id": "b0b7eb8c",
        "outputId": "1e0edce4-17d0-4acc-f9c2-80642796dc8c",
        "colab": {
          "base_uri": "https://localhost:8080/"
        }
      },
      "source": [
        "print('Null Values:',btc_input_df_datetype.isnull().values.sum())\n",
        "print('If any NA values:', btc_input_df_datetype.isnull().values.any())"
      ],
      "id": "b0b7eb8c",
      "execution_count": 48,
      "outputs": [
        {
          "output_type": "stream",
          "name": "stdout",
          "text": [
            "Null Values: 0\n",
            "If any NA values: False\n"
          ]
        }
      ]
    },
    {
      "cell_type": "code",
      "metadata": {
        "execution": {
          "iopub.execute_input": "2021-11-09T08:22:45.677061Z",
          "iopub.status.busy": "2021-11-09T08:22:45.676410Z",
          "iopub.status.idle": "2021-11-09T08:22:45.678882Z",
          "shell.execute_reply": "2021-11-09T08:22:45.679368Z",
          "shell.execute_reply.started": "2021-11-09T07:52:15.615682Z"
        },
        "papermill": {
          "duration": 0.053201,
          "end_time": "2021-11-09T08:22:45.679512",
          "exception": false,
          "start_time": "2021-11-09T08:22:45.626311",
          "status": "completed"
        },
        "tags": [],
        "id": "79a0421f",
        "outputId": "099b2fc6-b322-4f33-810a-122e9891bc3f",
        "colab": {
          "base_uri": "https://localhost:8080/",
          "height": 204
        }
      },
      "source": [
        "btc_input_df_datetype.tail()"
      ],
      "id": "79a0421f",
      "execution_count": 49,
      "outputs": [
        {
          "output_type": "execute_result",
          "data": {
            "text/html": [
              "<div>\n",
              "<style scoped>\n",
              "    .dataframe tbody tr th:only-of-type {\n",
              "        vertical-align: middle;\n",
              "    }\n",
              "\n",
              "    .dataframe tbody tr th {\n",
              "        vertical-align: top;\n",
              "    }\n",
              "\n",
              "    .dataframe thead th {\n",
              "        text-align: right;\n",
              "    }\n",
              "</style>\n",
              "<table border=\"1\" class=\"dataframe\">\n",
              "  <thead>\n",
              "    <tr style=\"text-align: right;\">\n",
              "      <th></th>\n",
              "      <th>time</th>\n",
              "      <th>low</th>\n",
              "      <th>high</th>\n",
              "      <th>open</th>\n",
              "      <th>close</th>\n",
              "      <th>volume</th>\n",
              "    </tr>\n",
              "  </thead>\n",
              "  <tbody>\n",
              "    <tr>\n",
              "      <th>3113271</th>\n",
              "      <td>2015-10-27 00:04:00</td>\n",
              "      <td>287.07</td>\n",
              "      <td>287.07</td>\n",
              "      <td>287.07</td>\n",
              "      <td>287.07</td>\n",
              "      <td>0.08610</td>\n",
              "    </tr>\n",
              "    <tr>\n",
              "      <th>3113272</th>\n",
              "      <td>2015-10-27 00:03:00</td>\n",
              "      <td>287.08</td>\n",
              "      <td>287.09</td>\n",
              "      <td>287.08</td>\n",
              "      <td>287.09</td>\n",
              "      <td>0.55440</td>\n",
              "    </tr>\n",
              "    <tr>\n",
              "      <th>3113273</th>\n",
              "      <td>2015-10-27 00:02:00</td>\n",
              "      <td>286.89</td>\n",
              "      <td>287.10</td>\n",
              "      <td>287.10</td>\n",
              "      <td>286.89</td>\n",
              "      <td>72.40320</td>\n",
              "    </tr>\n",
              "    <tr>\n",
              "      <th>3113274</th>\n",
              "      <td>2015-10-27 00:01:00</td>\n",
              "      <td>287.09</td>\n",
              "      <td>287.09</td>\n",
              "      <td>287.09</td>\n",
              "      <td>287.09</td>\n",
              "      <td>0.82276</td>\n",
              "    </tr>\n",
              "    <tr>\n",
              "      <th>3113275</th>\n",
              "      <td>2015-10-27 00:00:00</td>\n",
              "      <td>287.10</td>\n",
              "      <td>287.10</td>\n",
              "      <td>287.10</td>\n",
              "      <td>287.10</td>\n",
              "      <td>0.53620</td>\n",
              "    </tr>\n",
              "  </tbody>\n",
              "</table>\n",
              "</div>"
            ],
            "text/plain": [
              "                       time     low    high    open   close    volume\n",
              "3113271 2015-10-27 00:04:00  287.07  287.07  287.07  287.07   0.08610\n",
              "3113272 2015-10-27 00:03:00  287.08  287.09  287.08  287.09   0.55440\n",
              "3113273 2015-10-27 00:02:00  286.89  287.10  287.10  286.89  72.40320\n",
              "3113274 2015-10-27 00:01:00  287.09  287.09  287.09  287.09   0.82276\n",
              "3113275 2015-10-27 00:00:00  287.10  287.10  287.10  287.10   0.53620"
            ]
          },
          "metadata": {},
          "execution_count": 49
        }
      ]
    },
    {
      "cell_type": "code",
      "metadata": {
        "execution": {
          "iopub.execute_input": "2021-11-09T08:22:45.761484Z",
          "iopub.status.busy": "2021-11-09T08:22:45.760894Z",
          "iopub.status.idle": "2021-11-09T08:22:45.772886Z",
          "shell.execute_reply": "2021-11-09T08:22:45.773402Z",
          "shell.execute_reply.started": "2021-11-09T07:52:15.636141Z"
        },
        "papermill": {
          "duration": 0.054771,
          "end_time": "2021-11-09T08:22:45.773558",
          "exception": false,
          "start_time": "2021-11-09T08:22:45.718787",
          "status": "completed"
        },
        "tags": [],
        "id": "dd374188",
        "outputId": "cb01d2e9-9f67-4a01-95c5-3bc634157f03",
        "colab": {
          "base_uri": "https://localhost:8080/",
          "height": 204
        }
      },
      "source": [
        "btc_input_df_datetype.head()"
      ],
      "id": "dd374188",
      "execution_count": 50,
      "outputs": [
        {
          "output_type": "execute_result",
          "data": {
            "text/html": [
              "<div>\n",
              "<style scoped>\n",
              "    .dataframe tbody tr th:only-of-type {\n",
              "        vertical-align: middle;\n",
              "    }\n",
              "\n",
              "    .dataframe tbody tr th {\n",
              "        vertical-align: top;\n",
              "    }\n",
              "\n",
              "    .dataframe thead th {\n",
              "        text-align: right;\n",
              "    }\n",
              "</style>\n",
              "<table border=\"1\" class=\"dataframe\">\n",
              "  <thead>\n",
              "    <tr style=\"text-align: right;\">\n",
              "      <th></th>\n",
              "      <th>time</th>\n",
              "      <th>low</th>\n",
              "      <th>high</th>\n",
              "      <th>open</th>\n",
              "      <th>close</th>\n",
              "      <th>volume</th>\n",
              "    </tr>\n",
              "  </thead>\n",
              "  <tbody>\n",
              "    <tr>\n",
              "      <th>0</th>\n",
              "      <td>2021-10-30 03:00:00</td>\n",
              "      <td>61868.81</td>\n",
              "      <td>61920.00</td>\n",
              "      <td>61888.18</td>\n",
              "      <td>61919.98</td>\n",
              "      <td>2.946079</td>\n",
              "    </tr>\n",
              "    <tr>\n",
              "      <th>1</th>\n",
              "      <td>2021-10-30 02:59:00</td>\n",
              "      <td>61882.74</td>\n",
              "      <td>61912.67</td>\n",
              "      <td>61903.16</td>\n",
              "      <td>61882.74</td>\n",
              "      <td>2.942357</td>\n",
              "    </tr>\n",
              "    <tr>\n",
              "      <th>2</th>\n",
              "      <td>2021-10-30 02:58:00</td>\n",
              "      <td>61854.82</td>\n",
              "      <td>61907.96</td>\n",
              "      <td>61854.82</td>\n",
              "      <td>61903.15</td>\n",
              "      <td>3.047848</td>\n",
              "    </tr>\n",
              "    <tr>\n",
              "      <th>3</th>\n",
              "      <td>2021-10-30 02:57:00</td>\n",
              "      <td>61848.04</td>\n",
              "      <td>61883.02</td>\n",
              "      <td>61883.01</td>\n",
              "      <td>61851.39</td>\n",
              "      <td>3.381070</td>\n",
              "    </tr>\n",
              "    <tr>\n",
              "      <th>4</th>\n",
              "      <td>2021-10-30 02:56:00</td>\n",
              "      <td>61879.33</td>\n",
              "      <td>61925.42</td>\n",
              "      <td>61907.47</td>\n",
              "      <td>61882.28</td>\n",
              "      <td>5.663128</td>\n",
              "    </tr>\n",
              "  </tbody>\n",
              "</table>\n",
              "</div>"
            ],
            "text/plain": [
              "                 time       low      high      open     close    volume\n",
              "0 2021-10-30 03:00:00  61868.81  61920.00  61888.18  61919.98  2.946079\n",
              "1 2021-10-30 02:59:00  61882.74  61912.67  61903.16  61882.74  2.942357\n",
              "2 2021-10-30 02:58:00  61854.82  61907.96  61854.82  61903.15  3.047848\n",
              "3 2021-10-30 02:57:00  61848.04  61883.02  61883.01  61851.39  3.381070\n",
              "4 2021-10-30 02:56:00  61879.33  61925.42  61907.47  61882.28  5.663128"
            ]
          },
          "metadata": {},
          "execution_count": 50
        }
      ]
    },
    {
      "cell_type": "code",
      "metadata": {
        "execution": {
          "iopub.execute_input": "2021-11-09T08:22:45.855884Z",
          "iopub.status.busy": "2021-11-09T08:22:45.855251Z",
          "iopub.status.idle": "2021-11-09T08:23:07.129023Z",
          "shell.execute_reply": "2021-11-09T08:23:07.129522Z",
          "shell.execute_reply.started": "2021-11-09T07:52:15.654405Z"
        },
        "papermill": {
          "duration": 21.316539,
          "end_time": "2021-11-09T08:23:07.129743",
          "exception": false,
          "start_time": "2021-11-09T08:22:45.813204",
          "status": "completed"
        },
        "tags": [],
        "id": "369485c9",
        "outputId": "75090d26-9c52-4025-ad56-3bdd1755507c",
        "colab": {
          "base_uri": "https://localhost:8080/",
          "height": 312
        }
      },
      "source": [
        "btc_input_df_datetype.set_index(\"time\").close.plot(figsize=(24,7), title=\"Bitcoin Weighted Price\")"
      ],
      "id": "369485c9",
      "execution_count": 51,
      "outputs": [
        {
          "output_type": "execute_result",
          "data": {
            "text/plain": [
              "<matplotlib.axes._subplots.AxesSubplot at 0x7f1b77bb3fd0>"
            ]
          },
          "metadata": {},
          "execution_count": 51
        },
        {
          "output_type": "display_data",
          "data": {
            "image/png": "[encoded data removed]",
            "text/plain": [
              "<Figure size 1728x504 with 1 Axes>"
            ]
          },
          "metadata": {}
        }
      ]
    },
    {
      "cell_type": "markdown",
      "metadata": {
        "papermill": {
          "duration": 0.042862,
          "end_time": "2021-11-09T08:23:07.217361",
          "exception": false,
          "start_time": "2021-11-09T08:23:07.174499",
          "status": "completed"
        },
        "tags": [],
        "id": "4f6dc06d"
      },
      "source": [
        "# Lag Plot\n",
        "\n",
        "Lag plot are used to observe the autocorrelation. These are crucial when we try to correct the trend and stationarity and we have to use smoothing functions. Lag plot helps us to understand the data better."
      ],
      "id": "4f6dc06d"
    },
    {
      "cell_type": "code",
      "metadata": {
        "execution": {
          "iopub.execute_input": "2021-11-09T08:23:07.309860Z",
          "iopub.status.busy": "2021-11-09T08:23:07.309102Z",
          "iopub.status.idle": "2021-11-09T08:23:56.368247Z",
          "shell.execute_reply": "2021-11-09T08:23:56.368812Z",
          "shell.execute_reply.started": "2021-11-09T07:52:36.192939Z"
        },
        "papermill": {
          "duration": 49.110194,
          "end_time": "2021-11-09T08:23:56.368974",
          "exception": false,
          "start_time": "2021-11-09T08:23:07.258780",
          "status": "completed"
        },
        "tags": [],
        "id": "58326d07",
        "outputId": "e51e728b-fc58-4f5e-975a-96a5e0a03e7b",
        "colab": {
          "base_uri": "https://localhost:8080/",
          "height": 584
        }
      },
      "source": [
        "plt.figure(figsize=(15,12))\n",
        "plt.suptitle('Lag Plots', fontsize=22)\n",
        "\n",
        "plt.subplot(3,3,1)\n",
        "pd.plotting.lag_plot(btc_input_df_datetype['close'], lag=1) #minute lag\n",
        "plt.title('1-Minute Lag')\n",
        "\n",
        "plt.subplot(3,3,2)\n",
        "pd.plotting.lag_plot(btc_input_df_datetype['close'], lag=60) #hourley lag\n",
        "plt.title('1-Hour Lag')\n",
        "\n",
        "plt.subplot(3,3,3)\n",
        "pd.plotting.lag_plot(btc_input_df_datetype['close'], lag=1440) #Daily lag\n",
        "plt.title('Daily Lag')\n",
        "\n",
        "plt.subplot(3,3,4)\n",
        "pd.plotting.lag_plot(btc_input_df_datetype['close'], lag=10080) #weekly lag\n",
        "plt.title('Weekly Lag')\n",
        "\n",
        "plt.subplot(3,3,5)\n",
        "pd.plotting.lag_plot(btc_input_df_datetype['close'], lag=43200) #month lag\n",
        "plt.title('1-Month Lag')\n",
        "\n",
        "plt.legend()\n",
        "plt.show()"
      ],
      "id": "58326d07",
      "execution_count": 52,
      "outputs": [
        {
          "output_type": "stream",
          "name": "stderr",
          "text": [
            "No handles with labels found to put in legend.\n"
          ]
        },
        {
          "output_type": "display_data",
          "data": {
            "image/png": "[encoded data removed]",
            "text/plain": [
              "<Figure size 1080x864 with 5 Axes>"
            ]
          },
          "metadata": {}
        }
      ]
    },
    {
      "cell_type": "markdown",
      "metadata": {
        "papermill": {
          "duration": 0.044329,
          "end_time": "2021-11-09T08:23:56.457901",
          "exception": false,
          "start_time": "2021-11-09T08:23:56.413572",
          "status": "completed"
        },
        "tags": [],
        "id": "b476f2bc"
      },
      "source": [
        "We can see that there is a positive correlation for minute, hour and daily lag plots. \n",
        "\n",
        "Correlation decreases drastically with Weekly Lag and absolutely no correlation for month lag plots.\n",
        "\n",
        "It makes sense to re-sample our data atmost at the Daily level, thereby preserving the autocorrelation as well."
      ],
      "id": "b476f2bc"
    },
    {
      "cell_type": "markdown",
      "metadata": {
        "papermill": {
          "duration": 0.043682,
          "end_time": "2021-11-09T08:23:56.546940",
          "exception": false,
          "start_time": "2021-11-09T08:23:56.503258",
          "status": "completed"
        },
        "tags": [],
        "id": "0fd599a6"
      },
      "source": [
        "# Making data ready for LSTM - pd.to_datetime(unit='s) and then groupby('date')\n",
        "\n",
        "## pd.to_datetime unit='s'\n",
        "\n",
        "The unit of the arg (D,s,ms,us,ns) denote the unit, which is an integer or float number. This will be based off the origin. Example, with unit=’ms’ and origin=’unix’ (the default), this would calculate the number of milliseconds to the unix epoch start.\n",
        "\n",
        "Say you pass an int as your arg (like 20203939), with unit, you’ll be able specify what unit your int is away from the origin. In the example here, if we set unit=’s’, this means pandas will interpret 20203939 as 20,203,939 seconds away from the origin. Available units are [D,s,ms,us,ns]. \n",
        "[Source](https://www.dataindependent.com/pandas/pandas-to-datetime/)"
      ],
      "id": "0fd599a6"
    },
    {
      "cell_type": "code",
      "metadata": {
        "execution": {
          "iopub.execute_input": "2021-11-09T08:23:56.639356Z",
          "iopub.status.busy": "2021-11-09T08:23:56.638765Z",
          "iopub.status.idle": "2021-11-09T08:23:58.943697Z",
          "shell.execute_reply": "2021-11-09T08:23:58.942755Z",
          "shell.execute_reply.started": "2021-11-09T07:53:25.811071Z"
        },
        "papermill": {
          "duration": 2.351959,
          "end_time": "2021-11-09T08:23:58.943895",
          "exception": false,
          "start_time": "2021-11-09T08:23:56.591936",
          "status": "completed"
        },
        "tags": [],
        "id": "29c9064d",
        "outputId": "227b84ea-55eb-43f2-91a2-f896fb7f2014",
        "colab": {
          "base_uri": "https://localhost:8080/",
          "height": 204
        }
      },
      "source": [
        "btc_input_df_datetype['date'] = pd.to_datetime(btc_input_df_datetype['time'],unit='s').dt.date\n",
        "\n",
        "display(btc_input_df_datetype.head())\n",
        "\n",
        "group = btc_input_df_datetype.groupby('date')\n",
        "\n",
        "btc_closing_price_groupby_date = group['close'].mean()"
      ],
      "id": "29c9064d",
      "execution_count": 53,
      "outputs": [
        {
          "output_type": "display_data",
          "data": {
            "text/html": [
              "<div>\n",
              "<style scoped>\n",
              "    .dataframe tbody tr th:only-of-type {\n",
              "        vertical-align: middle;\n",
              "    }\n",
              "\n",
              "    .dataframe tbody tr th {\n",
              "        vertical-align: top;\n",
              "    }\n",
              "\n",
              "    .dataframe thead th {\n",
              "        text-align: right;\n",
              "    }\n",
              "</style>\n",
              "<table border=\"1\" class=\"dataframe\">\n",
              "  <thead>\n",
              "    <tr style=\"text-align: right;\">\n",
              "      <th></th>\n",
              "      <th>time</th>\n",
              "      <th>low</th>\n",
              "      <th>high</th>\n",
              "      <th>open</th>\n",
              "      <th>close</th>\n",
              "      <th>volume</th>\n",
              "      <th>date</th>\n",
              "    </tr>\n",
              "  </thead>\n",
              "  <tbody>\n",
              "    <tr>\n",
              "      <th>0</th>\n",
              "      <td>2021-10-30 03:00:00</td>\n",
              "      <td>61868.81</td>\n",
              "      <td>61920.00</td>\n",
              "      <td>61888.18</td>\n",
              "      <td>61919.98</td>\n",
              "      <td>2.946079</td>\n",
              "      <td>2021-10-30</td>\n",
              "    </tr>\n",
              "    <tr>\n",
              "      <th>1</th>\n",
              "      <td>2021-10-30 02:59:00</td>\n",
              "      <td>61882.74</td>\n",
              "      <td>61912.67</td>\n",
              "      <td>61903.16</td>\n",
              "      <td>61882.74</td>\n",
              "      <td>2.942357</td>\n",
              "      <td>2021-10-30</td>\n",
              "    </tr>\n",
              "    <tr>\n",
              "      <th>2</th>\n",
              "      <td>2021-10-30 02:58:00</td>\n",
              "      <td>61854.82</td>\n",
              "      <td>61907.96</td>\n",
              "      <td>61854.82</td>\n",
              "      <td>61903.15</td>\n",
              "      <td>3.047848</td>\n",
              "      <td>2021-10-30</td>\n",
              "    </tr>\n",
              "    <tr>\n",
              "      <th>3</th>\n",
              "      <td>2021-10-30 02:57:00</td>\n",
              "      <td>61848.04</td>\n",
              "      <td>61883.02</td>\n",
              "      <td>61883.01</td>\n",
              "      <td>61851.39</td>\n",
              "      <td>3.381070</td>\n",
              "      <td>2021-10-30</td>\n",
              "    </tr>\n",
              "    <tr>\n",
              "      <th>4</th>\n",
              "      <td>2021-10-30 02:56:00</td>\n",
              "      <td>61879.33</td>\n",
              "      <td>61925.42</td>\n",
              "      <td>61907.47</td>\n",
              "      <td>61882.28</td>\n",
              "      <td>5.663128</td>\n",
              "      <td>2021-10-30</td>\n",
              "    </tr>\n",
              "  </tbody>\n",
              "</table>\n",
              "</div>"
            ],
            "text/plain": [
              "                 time       low      high  ...     close    volume        date\n",
              "0 2021-10-30 03:00:00  61868.81  61920.00  ...  61919.98  2.946079  2021-10-30\n",
              "1 2021-10-30 02:59:00  61882.74  61912.67  ...  61882.74  2.942357  2021-10-30\n",
              "2 2021-10-30 02:58:00  61854.82  61907.96  ...  61903.15  3.047848  2021-10-30\n",
              "3 2021-10-30 02:57:00  61848.04  61883.02  ...  61851.39  3.381070  2021-10-30\n",
              "4 2021-10-30 02:56:00  61879.33  61925.42  ...  61882.28  5.663128  2021-10-30\n",
              "\n",
              "[5 rows x 7 columns]"
            ]
          },
          "metadata": {}
        }
      ]
    },
    {
      "cell_type": "code",
      "metadata": {
        "execution": {
          "iopub.execute_input": "2021-11-09T08:23:59.040525Z",
          "iopub.status.busy": "2021-11-09T08:23:59.039593Z",
          "iopub.status.idle": "2021-11-09T08:23:59.048614Z",
          "shell.execute_reply": "2021-11-09T08:23:59.049444Z",
          "shell.execute_reply.started": "2021-11-09T07:53:28.172949Z"
        },
        "papermill": {
          "duration": 0.058979,
          "end_time": "2021-11-09T08:23:59.049687",
          "exception": false,
          "start_time": "2021-11-09T08:23:58.990708",
          "status": "completed"
        },
        "tags": [],
        "id": "ffa1db53",
        "outputId": "907a0692-4ae5-4b42-b019-5375d4c0bcab",
        "colab": {
          "base_uri": "https://localhost:8080/",
          "height": 238
        }
      },
      "source": [
        "display(btc_closing_price_groupby_date.head(10))\n",
        "\n",
        "print(\"Length of btc_closing_price_groupby_date :\", len(btc_closing_price_groupby_date))"
      ],
      "id": "ffa1db53",
      "execution_count": 54,
      "outputs": [
        {
          "output_type": "display_data",
          "data": {
            "text/plain": [
              "date\n",
              "2015-10-27    292.887484\n",
              "2015-10-28    301.991834\n",
              "2015-10-29    310.537530\n",
              "2015-10-30    326.665808\n",
              "2015-10-31    323.877132\n",
              "2015-11-01    319.527295\n",
              "2015-11-02    339.226860\n",
              "2015-11-03    386.773759\n",
              "2015-11-04    450.035105\n",
              "2015-11-05    400.249521\n",
              "Name: close, dtype: float64"
            ]
          },
          "metadata": {}
        },
        {
          "output_type": "stream",
          "name": "stdout",
          "text": [
            "Length of btc_closing_price_groupby_date : 2196\n"
          ]
        }
      ]
    },
    {
      "cell_type": "markdown",
      "metadata": {
        "papermill": {
          "duration": 0.047744,
          "end_time": "2021-11-09T08:23:59.148324",
          "exception": false,
          "start_time": "2021-11-09T08:23:59.100580",
          "status": "completed"
        },
        "tags": [],
        "id": "4b4517fb"
      },
      "source": [
        "# Train Test Split"
      ],
      "id": "4b4517fb"
    },
    {
      "cell_type": "code",
      "metadata": {
        "execution": {
          "iopub.execute_input": "2021-11-09T08:23:59.244079Z",
          "iopub.status.busy": "2021-11-09T08:23:59.243159Z",
          "iopub.status.idle": "2021-11-09T08:23:59.248558Z",
          "shell.execute_reply": "2021-11-09T08:23:59.249109Z",
          "shell.execute_reply.started": "2021-11-09T07:53:28.184883Z"
        },
        "papermill": {
          "duration": 0.054267,
          "end_time": "2021-11-09T08:23:59.249263",
          "exception": false,
          "start_time": "2021-11-09T08:23:59.194996",
          "status": "completed"
        },
        "tags": [],
        "id": "4399592d"
      },
      "source": [
        "prediction_days = 270\n",
        "\n",
        "# Set Train data to be uplo ( Total data length - prediction_days )\n",
        "df_train= btc_closing_price_groupby_date[:len(btc_closing_price_groupby_date)-prediction_days].values.reshape(-1,1)\n",
        "\n",
        "\n",
        "# Set Test data to be the last prediction_days (or 60 days in this case)\n",
        "df_test= btc_closing_price_groupby_date[len(btc_closing_price_groupby_date)-prediction_days:].values.reshape(-1,1)"
      ],
      "id": "4399592d",
      "execution_count": 55,
      "outputs": []
    },
    {
      "cell_type": "code",
      "metadata": {
        "execution": {
          "iopub.execute_input": "2021-11-09T08:23:59.343379Z",
          "iopub.status.busy": "2021-11-09T08:23:59.342454Z",
          "iopub.status.idle": "2021-11-09T08:23:59.347337Z",
          "shell.execute_reply": "2021-11-09T08:23:59.347903Z",
          "shell.execute_reply.started": "2021-11-09T07:53:28.196806Z"
        },
        "papermill": {
          "duration": 0.053552,
          "end_time": "2021-11-09T08:23:59.348062",
          "exception": false,
          "start_time": "2021-11-09T08:23:59.294510",
          "status": "completed"
        },
        "tags": [],
        "id": "85184d95",
        "outputId": "52bd602c-4690-46f8-cf3f-8a159f1489ee",
        "colab": {
          "base_uri": "https://localhost:8080/"
        }
      },
      "source": [
        "df_test.shape\n"
      ],
      "id": "85184d95",
      "execution_count": 56,
      "outputs": [
        {
          "output_type": "execute_result",
          "data": {
            "text/plain": [
              "(270, 1)"
            ]
          },
          "metadata": {},
          "execution_count": 56
        }
      ]
    },
    {
      "cell_type": "code",
      "metadata": {
        "execution": {
          "iopub.execute_input": "2021-11-09T08:23:59.443045Z",
          "iopub.status.busy": "2021-11-09T08:23:59.442151Z",
          "iopub.status.idle": "2021-11-09T08:23:59.712867Z",
          "shell.execute_reply": "2021-11-09T08:23:59.713366Z",
          "shell.execute_reply.started": "2021-11-09T07:53:28.211137Z"
        },
        "papermill": {
          "duration": 0.319696,
          "end_time": "2021-11-09T08:23:59.713546",
          "exception": false,
          "start_time": "2021-11-09T08:23:59.393850",
          "status": "completed"
        },
        "tags": [],
        "id": "a74e9c45",
        "outputId": "26d32ad0-2a8d-4835-ab44-8634b80db2bd",
        "colab": {
          "base_uri": "https://localhost:8080/",
          "height": 442
        }
      },
      "source": [
        "chosen_col = 'Close'\n",
        "\n",
        "fig, ax = plt.subplots(1, figsize=(13, 7))\n",
        "ax.plot(df_train, label='Train', linewidth=2)\n",
        "ax.plot(df_test, label='Test', linewidth=2)\n",
        "ax.set_ylabel('Price USD', fontsize=14)\n",
        "ax.set_title('', fontsize=16)\n",
        "ax.legend(loc='best', fontsize=16)"
      ],
      "id": "a74e9c45",
      "execution_count": 57,
      "outputs": [
        {
          "output_type": "execute_result",
          "data": {
            "text/plain": [
              "<matplotlib.legend.Legend at 0x7f1b825edc10>"
            ]
          },
          "metadata": {},
          "execution_count": 57
        },
        {
          "output_type": "display_data",
          "data": {
            "image/png": "[encoded data removed]",
            "text/plain": [
              "<Figure size 936x504 with 1 Axes>"
            ]
          },
          "metadata": {}
        }
      ]
    },
    {
      "cell_type": "markdown",
      "metadata": {
        "papermill": {
          "duration": 0.048747,
          "end_time": "2021-11-09T08:23:59.812142",
          "exception": false,
          "start_time": "2021-11-09T08:23:59.763395",
          "status": "completed"
        },
        "tags": [],
        "id": "7d3e9589"
      },
      "source": [
        "# Mix Max Scaling of Data post Train-Test Split\n",
        "\n",
        "Scaling must be done after the data has been split into training and test sets — with each being scaled separately. \n",
        "\n",
        "A common mistake when first using the LSTM is to first normalize the data before splitting the data.\n",
        "\n",
        "The reason this is erroneous is that the normalization technique will use data from the test sets as a reference point when scaling the data as a whole. This will inadvertently influence the values of the training data, essentially resulting in data leakage from the test sets.\n"
      ],
      "id": "7d3e9589"
    },
    {
      "cell_type": "code",
      "metadata": {
        "execution": {
          "iopub.execute_input": "2021-11-09T08:23:59.913917Z",
          "iopub.status.busy": "2021-11-09T08:23:59.912834Z",
          "iopub.status.idle": "2021-11-09T08:23:59.918170Z",
          "shell.execute_reply": "2021-11-09T08:23:59.918743Z",
          "shell.execute_reply.started": "2021-11-09T07:53:28.453531Z"
        },
        "papermill": {
          "duration": 0.057689,
          "end_time": "2021-11-09T08:23:59.918930",
          "exception": false,
          "start_time": "2021-11-09T08:23:59.861241",
          "status": "completed"
        },
        "tags": [],
        "id": "99304eda"
      },
      "source": [
        "scaler_train = MinMaxScaler(feature_range=(0, 1))\n",
        "scaled_train = scaler_train.fit_transform(df_train)\n",
        "\n",
        "scaler_test = MinMaxScaler(feature_range=(0, 1))\n",
        "scaled_test = scaler_test.fit_transform(df_test)"
      ],
      "id": "99304eda",
      "execution_count": 58,
      "outputs": []
    },
    {
      "cell_type": "markdown",
      "metadata": {
        "papermill": {
          "duration": 0.049184,
          "end_time": "2021-11-09T08:24:00.018084",
          "exception": false,
          "start_time": "2021-11-09T08:23:59.968900",
          "status": "completed"
        },
        "tags": [],
        "id": "1228189d"
      },
      "source": [
        "# Dataset Generator for LSTM\n",
        "\n",
        "We will frame the problem to take a window of the last so many number of days of data to predict the current days data.\n",
        "\n",
        "To achieve this, we will define a new function named `dataset_generator_lstm()` that will split the input sequence into windows of data appropriate for fitting a supervised learning model, like an LSTM\n",
        "\n",
        "\n",
        "For example, if the sequence was:\n",
        "\n",
        "1, 2, 3, 4, 5, 6, 7, 8, 9, 10\n",
        "\n",
        "\n",
        "Then the samples for training the model will look like:\n",
        "\n",
        "```\n",
        "\n",
        "Input \t\t\t\t| Output\n",
        "1, 2, 3, 4, 5 \t\t6\n",
        "2, 3, 4, 5, 6 \t\t7\n",
        "3, 4, 5, 6, 7 \t\t8\n",
        "\n",
        "```\n",
        "\n",
        "LSTMs expect each sample in the dataset to have two dimensions; the first is the number of time steps (in the above case it is 5), and the second is the number of observations per time step (in this case it is 1).\n",
        "\n",
        "Because it is a regression type problem, we will use a linear activation function in the output layer and optimize the mean squared error loss function. We will also evaluate the model using the mean squared error (MAE) metric.\n",
        "\n",
        "## Define look_back period\n",
        "\n",
        "A “lookback period” defines how many previous timesteps are used in order to predict the subsequent timestep. \n",
        "\n",
        "For example if I set the lookback period is to 5, that that means that I am using the time steps at t-4, t-3, t-2, t-1, and t to predict the value at time t+1.\n",
        "\n",
        "For my case below, I will be using a one-step prediction model.\n",
        "\n",
        "### Lookback period\n",
        "\n",
        "\n",
        "```py\n",
        "\n",
        "lookback = 5\n",
        "\n",
        "X_train, Y_train = dataset_generator_lstm(train, lookback)\n",
        "\n",
        "X_val, Y_val = dataset_generator_lstm(val, lookback)\n",
        "\n",
        "```\n",
        "\n",
        "### Quick note on Python slice notation for slicing an array\n",
        "\n",
        "- [1:5] is equivalent to \"from 1 to 5\" (5 not included)\n",
        "\n",
        "- [1:] is equivalent to \"1 to end\"\n",
        "\n",
        "- [len(a):] is equivalent to \"from length of a to end\"\n",
        "\n",
        "In the below function I will generate the train_X array and train_y array for feeding into the LSTM"
      ],
      "id": "1228189d"
    },
    {
      "cell_type": "code",
      "metadata": {
        "execution": {
          "iopub.execute_input": "2021-11-09T08:24:00.120271Z",
          "iopub.status.busy": "2021-11-09T08:24:00.119252Z",
          "iopub.status.idle": "2021-11-09T08:24:00.134344Z",
          "shell.execute_reply": "2021-11-09T08:24:00.133732Z",
          "shell.execute_reply.started": "2021-11-09T07:53:28.462429Z"
        },
        "papermill": {
          "duration": 0.066879,
          "end_time": "2021-11-09T08:24:00.134486",
          "exception": false,
          "start_time": "2021-11-09T08:24:00.067607",
          "status": "completed"
        },
        "tags": [],
        "id": "f3e1e5fa",
        "outputId": "0ec1780d-f21a-46b2-eaf4-c44ebfdb6e0b",
        "colab": {
          "base_uri": "https://localhost:8080/"
        }
      },
      "source": [
        "def dataset_generator_lstm(dataset, look_back=5):\n",
        "    # A “lookback period” defines the window-size of how many\n",
        "    # previous timesteps are used in order to predict\n",
        "    # the subsequent timestep. \n",
        "    dataX, dataY = [], []\n",
        "    \n",
        "    for i in range(len(dataset) - look_back):\n",
        "        window_size_x = dataset[i:(i + look_back), 0]\n",
        "        dataX.append(window_size_x)\n",
        "        dataY.append(dataset[i + look_back, 0]) # this is the label or actual y-value\n",
        "    return np.array(dataX), np.array(dataY)\n",
        "\n",
        "trainX, trainY = dataset_generator_lstm(scaled_train)\n",
        "\n",
        "testX, testY = dataset_generator_lstm(scaled_test)\n",
        "\n",
        "print(\"trainX: \", trainX.shape)\n",
        "print(\"trainY: \", trainY.shape)\n",
        "print(\"testY: \", testX.shape)\n",
        "print(\"testY\", testY.shape)"
      ],
      "id": "f3e1e5fa",
      "execution_count": 59,
      "outputs": [
        {
          "output_type": "stream",
          "name": "stdout",
          "text": [
            "trainX:  (1921, 5)\n",
            "trainY:  (1921,)\n",
            "testY:  (265, 5)\n",
            "testY (265,)\n"
          ]
        }
      ]
    },
    {
      "cell_type": "code",
      "metadata": {
        "execution": {
          "iopub.execute_input": "2021-11-09T08:24:00.237582Z",
          "iopub.status.busy": "2021-11-09T08:24:00.236915Z",
          "iopub.status.idle": "2021-11-09T08:24:00.242209Z",
          "shell.execute_reply": "2021-11-09T08:24:00.242738Z",
          "shell.execute_reply.started": "2021-11-09T07:53:28.483275Z"
        },
        "papermill": {
          "duration": 0.058976,
          "end_time": "2021-11-09T08:24:00.242908",
          "exception": false,
          "start_time": "2021-11-09T08:24:00.183932",
          "status": "completed"
        },
        "tags": [],
        "id": "c92187fd",
        "outputId": "d54502bf-2025-4569-d921-eb96d91b7375",
        "colab": {
          "base_uri": "https://localhost:8080/"
        }
      },
      "source": [
        "print(\"trainX: \", trainX)\n",
        "# print(\"trainY: \", trainY)\n",
        "# print(\"testY: \", testX)\n",
        "# print(\"testY\", testY)"
      ],
      "id": "c92187fd",
      "execution_count": 60,
      "outputs": [
        {
          "output_type": "stream",
          "name": "stdout",
          "text": [
            "trainX:  [[0.00000000e+00 2.27009727e-04 4.40089877e-04 8.42235637e-04\n",
            "  7.72702238e-04]\n",
            " [2.27009727e-04 4.40089877e-04 8.42235637e-04 7.72702238e-04\n",
            "  6.64242498e-04]\n",
            " [4.40089877e-04 8.42235637e-04 7.72702238e-04 6.64242498e-04\n",
            "  1.15543548e-03]\n",
            " ...\n",
            " [7.90547374e-01 7.69489487e-01 7.85587323e-01 8.65716839e-01\n",
            "  8.41930313e-01]\n",
            " [7.69489487e-01 7.85587323e-01 8.65716839e-01 8.41930313e-01\n",
            "  8.26791420e-01]\n",
            " [7.85587323e-01 8.65716839e-01 8.41930313e-01 8.26791420e-01\n",
            "  8.33183959e-01]]\n"
          ]
        }
      ]
    },
    {
      "cell_type": "markdown",
      "metadata": {
        "papermill": {
          "duration": 0.048996,
          "end_time": "2021-11-09T08:24:00.341345",
          "exception": false,
          "start_time": "2021-11-09T08:24:00.292349",
          "status": "completed"
        },
        "tags": [],
        "id": "8ffd3640"
      },
      "source": [
        "# For LSTM I need to reshape input to be a 3D Tensor of [samples, time steps, features]\n",
        "\n",
        "    X = numpy.reshape(dataX, (len(dataX), seq_length, 1))\n",
        "\n",
        "**Samples** - This is the len(dataX), or the amount of data points you have.\n",
        "\n",
        "**Time steps** - A sample contains multiple time steps, that is, the width of the sliding window (according to the above example, the time step is 3). Note here that it is distinguished from the sliding step of the sliding window. This is equivalent to the amount of time steps you run your recurrent neural network. If you want your network to have memory of 60 characters, this number should be 60. For this notebook, I am using the window-size to be 5.\n",
        "\n",
        "**Features** - this is the amount of features in every time step. If you are processing pictures, this is the amount of pixels. In this case I have 1 feature (the price of Bitcoin) per time step.\n",
        "\n",
        " ### According to the documentation and the source code, the Keras LSTM input data must be in the form: [batch_size, timesteps, input_dim].\n",
        "\n",
        " In Keras, the number of time steps is equal to the number of LSTM cells. This is what the word “time steps” means in the 3D tensor of the shape [batch_size, timesteps, input_dim].\n",
        "\n",
        "\n",
        "### So to emphasize again, the input to every LSTM layer must be three-dimensional.\n",
        "\n",
        "The three dimensions of this input are:\n",
        "\n",
        "Samples. One sequence is one sample. A batch is comprised of one or more samples.\n",
        "\n",
        "Time Steps. One time step is one point of observation in the sample.\n",
        "\n",
        "Features. One feature is one observation at a time step.\n",
        "\n",
        "This means that the input layer expects a 3D array of data when fitting the model and when making predictions, even if specific dimensions of the array contain a single value, e.g. one sample or one feature.\n",
        "\n",
        "When defining the input layer of your LSTM network, the network assumes you have 1 or more samples and requires that you specify the number of time steps and the number of features. You can do this by specifying a tuple to the “input_shape” argument.\n",
        "\n",
        "-----------------------\n",
        "\n",
        "### Example of LSTM With Single Input Sample where you have one sequence of multiple time steps and one feature.\n",
        "\n",
        "For example, this could be a sequence of 10 values:\n",
        "\n",
        "```\n",
        "0.1, 0.2, 0.3, 0.4, 0.5, 0.6, 0.7, 0.8, 0.9, 1.0\n",
        "\n",
        "```\n",
        "\n",
        "1. We can define this sequence of numbers as a NumPy array.\n",
        "\n",
        "2. We can then use the reshape() function on the NumPy array to reshape this one-dimensional array into a three-dimensional array with 1 sample, 10 time steps, and 1 feature at each time step.\n",
        "\n",
        "The reshape() function when called on an array takes one argument which is a tuple defining the new shape of the array. We cannot pass in any tuple of numbers; the reshape must evenly reorganize the data in the array.\n",
        "\n",
        "3. Once reshaped, we can print the new shape of the array.\n",
        "\n",
        "Putting all of this together, the complete example is listed below.\n",
        "\n",
        "```py\n",
        "from numpy import array\n",
        "data = array([0.1, 0.2, 0.3, 0.4, 0.5, 0.6, 0.7, 0.8, 0.9, 1.0])\n",
        "data = data.reshape((1, 10, 1))\n",
        "print(data.shape)\n",
        "\n",
        "```\n",
        "Running the example prints the new 3D shape of the single sample.\n",
        "\n",
        "```\n",
        "(1, 10, 1)\n",
        "\n",
        "```\n",
        "This data is now ready to be used as input (X) to the LSTM with an input_shape of (10, 1).\n",
        "\n",
        "```py\n",
        "model = Sequential()\n",
        "model.add(LSTM(32, input_shape=(10, 1)))\n",
        "model.add(Dense(1))\n",
        "\n",
        "```\n",
        "\n",
        "----------------------------------"
      ],
      "id": "8ffd3640"
    },
    {
      "cell_type": "markdown",
      "metadata": {
        "papermill": {
          "duration": 0.049132,
          "end_time": "2021-11-09T08:24:00.439690",
          "exception": false,
          "start_time": "2021-11-09T08:24:00.390558",
          "status": "completed"
        },
        "tags": [],
        "id": "b05aed8d"
      },
      "source": [
        "-------------------------------\n",
        "\n",
        "# For LSTM Reshape input ( trainX and testX ) to be 3-D of [samples, time steps, features]\n",
        "\n",
        "### First check the current shape of trainX and testX"
      ],
      "id": "b05aed8d"
    },
    {
      "cell_type": "code",
      "metadata": {
        "execution": {
          "iopub.execute_input": "2021-11-09T08:24:00.541707Z",
          "iopub.status.busy": "2021-11-09T08:24:00.541081Z",
          "iopub.status.idle": "2021-11-09T08:24:00.545542Z",
          "shell.execute_reply": "2021-11-09T08:24:00.546039Z",
          "shell.execute_reply.started": "2021-11-09T07:53:28.494836Z"
        },
        "papermill": {
          "duration": 0.056702,
          "end_time": "2021-11-09T08:24:00.546194",
          "exception": false,
          "start_time": "2021-11-09T08:24:00.489492",
          "status": "completed"
        },
        "tags": [],
        "id": "24a61190",
        "outputId": "820c17db-643a-4bb6-f511-8c1dad3b28b2",
        "colab": {
          "base_uri": "https://localhost:8080/"
        }
      },
      "source": [
        "print(trainX.shape)\n",
        "print(testX.shape)"
      ],
      "id": "24a61190",
      "execution_count": 61,
      "outputs": [
        {
          "output_type": "stream",
          "name": "stdout",
          "text": [
            "(1921, 5)\n",
            "(265, 5)\n"
          ]
        }
      ]
    },
    {
      "cell_type": "markdown",
      "metadata": {
        "papermill": {
          "duration": 0.04855,
          "end_time": "2021-11-09T08:24:00.643986",
          "exception": false,
          "start_time": "2021-11-09T08:24:00.595436",
          "status": "completed"
        },
        "tags": [],
        "id": "4be581c5"
      },
      "source": [
        "### And now reshape trainX and testX "
      ],
      "id": "4be581c5"
    },
    {
      "cell_type": "code",
      "metadata": {
        "execution": {
          "iopub.execute_input": "2021-11-09T08:24:00.744891Z",
          "iopub.status.busy": "2021-11-09T08:24:00.744247Z",
          "iopub.status.idle": "2021-11-09T08:24:00.750621Z",
          "shell.execute_reply": "2021-11-09T08:24:00.751297Z",
          "shell.execute_reply.started": "2021-11-09T07:53:28.505643Z"
        },
        "papermill": {
          "duration": 0.05867,
          "end_time": "2021-11-09T08:24:00.751471",
          "exception": false,
          "start_time": "2021-11-09T08:24:00.692801",
          "status": "completed"
        },
        "tags": [],
        "id": "88a73677",
        "outputId": "daccb60e-d497-48fd-db4f-191b6b5f142d",
        "colab": {
          "base_uri": "https://localhost:8080/"
        }
      },
      "source": [
        "trainX = np.reshape(trainX, (trainX.shape[0], trainX.shape[1], 1))\n",
        "\n",
        "testX = np.reshape(testX, (testX.shape[0], testX.shape[1], 1 ))\n",
        "\n",
        "print(\"Shape of trainX: \", trainX.shape)\n",
        "print(\"Shape of testX: \", testX.shape)"
      ],
      "id": "88a73677",
      "execution_count": 62,
      "outputs": [
        {
          "output_type": "stream",
          "name": "stdout",
          "text": [
            "Shape of trainX:  (1921, 5, 1)\n",
            "Shape of testX:  (265, 5, 1)\n"
          ]
        }
      ]
    },
    {
      "cell_type": "code",
      "metadata": {
        "execution": {
          "iopub.execute_input": "2021-11-09T08:24:00.853506Z",
          "iopub.status.busy": "2021-11-09T08:24:00.852924Z",
          "iopub.status.idle": "2021-11-09T08:24:00.864174Z",
          "shell.execute_reply": "2021-11-09T08:24:00.864764Z",
          "shell.execute_reply.started": "2021-11-09T07:53:28.518606Z"
        },
        "papermill": {
          "duration": 0.063616,
          "end_time": "2021-11-09T08:24:00.864939",
          "exception": false,
          "start_time": "2021-11-09T08:24:00.801323",
          "status": "completed"
        },
        "tags": [],
        "id": "f5c3dfc2",
        "outputId": "9919a163-337e-4e70-d1c3-fab44dc72fea",
        "colab": {
          "base_uri": "https://localhost:8080/"
        }
      },
      "source": [
        "print(\"trainX: \", trainX)\n",
        "print(\" ********** \")\n",
        "print(\"testX: \", testX)"
      ],
      "id": "f5c3dfc2",
      "execution_count": 63,
      "outputs": [
        {
          "output_type": "stream",
          "name": "stdout",
          "text": [
            "trainX:  [[[0.00000000e+00]\n",
            "  [2.27009727e-04]\n",
            "  [4.40089877e-04]\n",
            "  [8.42235637e-04]\n",
            "  [7.72702238e-04]]\n",
            "\n",
            " [[2.27009727e-04]\n",
            "  [4.40089877e-04]\n",
            "  [8.42235637e-04]\n",
            "  [7.72702238e-04]\n",
            "  [6.64242498e-04]]\n",
            "\n",
            " [[4.40089877e-04]\n",
            "  [8.42235637e-04]\n",
            "  [7.72702238e-04]\n",
            "  [6.64242498e-04]\n",
            "  [1.15543548e-03]]\n",
            "\n",
            " ...\n",
            "\n",
            " [[7.90547374e-01]\n",
            "  [7.69489487e-01]\n",
            "  [7.85587323e-01]\n",
            "  [8.65716839e-01]\n",
            "  [8.41930313e-01]]\n",
            "\n",
            " [[7.69489487e-01]\n",
            "  [7.85587323e-01]\n",
            "  [8.65716839e-01]\n",
            "  [8.41930313e-01]\n",
            "  [8.26791420e-01]]\n",
            "\n",
            " [[7.85587323e-01]\n",
            "  [8.65716839e-01]\n",
            "  [8.41930313e-01]\n",
            "  [8.26791420e-01]\n",
            "  [8.33183959e-01]]]\n",
            " ********** \n",
            "testX:  [[[0.19179697]\n",
            "  [0.21923019]\n",
            "  [0.22167878]\n",
            "  [0.28410573]\n",
            "  [0.25272753]]\n",
            "\n",
            " [[0.21923019]\n",
            "  [0.22167878]\n",
            "  [0.28410573]\n",
            "  [0.25272753]\n",
            "  [0.32338502]]\n",
            "\n",
            " [[0.22167878]\n",
            "  [0.28410573]\n",
            "  [0.25272753]\n",
            "  [0.32338502]\n",
            "  [0.47973851]]\n",
            "\n",
            " ...\n",
            "\n",
            " [[0.88965005]\n",
            "  [0.87887827]\n",
            "  [0.93299957]\n",
            "  [0.92426505]\n",
            "  [0.84468861]]\n",
            "\n",
            " [[0.87887827]\n",
            "  [0.93299957]\n",
            "  [0.92426505]\n",
            "  [0.84468861]\n",
            "  [0.86585225]]\n",
            "\n",
            " [[0.93299957]\n",
            "  [0.92426505]\n",
            "  [0.84468861]\n",
            "  [0.86585225]\n",
            "  [0.90376807]]]\n"
          ]
        }
      ]
    },
    {
      "cell_type": "markdown",
      "metadata": {
        "papermill": {
          "duration": 0.050372,
          "end_time": "2021-11-09T08:24:00.966593",
          "exception": false,
          "start_time": "2021-11-09T08:24:00.916221",
          "status": "completed"
        },
        "tags": [],
        "id": "7da377d2"
      },
      "source": [
        "## Let’s take a look at the normalized window for trainX.\n",
        "\n",
        "```\n",
        "[[[0.00000000e+00]\n",
        "  [1.44159882e-04]\n",
        "  [2.79473948e-04]\n",
        "  [5.34851927e-04]\n",
        "  [4.90695552e-04]]\n",
        "\n",
        " [[1.44159882e-04]\n",
        "  [2.79473948e-04]\n",
        "  [5.34851927e-04]\n",
        "  [4.90695552e-04]\n",
        "  [4.21819458e-04]]\n",
        "\n",
        " [[2.79473948e-04]\n",
        "  [5.34851927e-04]\n",
        "  [4.90695552e-04]\n",
        "  [4.21819458e-04]\n",
        "  [7.33745838e-04]]... ]\n",
        "\n",
        "```\n",
        "Above are the first three entries. We can see that the five time steps immediately prior to the one we are trying to predict move in a stepwise motion.\n",
        "\n",
        "Consider the last value of the first window which is => 4.90695552e-04"
      ],
      "id": "7da377d2"
    },
    {
      "cell_type": "markdown",
      "metadata": {
        "papermill": {
          "duration": 0.049556,
          "end_time": "2021-11-09T08:24:01.066574",
          "exception": false,
          "start_time": "2021-11-09T08:24:01.017018",
          "status": "completed"
        },
        "tags": [],
        "id": "d9e2a97b"
      },
      "source": [
        "# LSTM (Long Short-Term Memory) Mechanism\n",
        "\n",
        "The Long Short-Term Memory, or LSTM, is a recurrent neural network that is comprised of internal gates.\n",
        "\n",
        "Unlike other recurrent neural networks, the network’s internal gates allow the model to be trained successfully using backpropagation through time, or BPTT, and avoid the vanishing gradients problem.\n",
        "\n",
        "In the Keras deep learning library, LSTM layers can be created using the LSTM() class.\n",
        "\n",
        "Creating a layer of LSTM memory units allows you to specify the number of memory units within the layer.\n",
        "\n",
        "Each unit or cell within the layer has an internal cell state, often abbreviated as “c“, and outputs a hidden state, often abbreviated as “h“.\n",
        "\n",
        "The Keras API allows you to access these data, which can be useful or even required when developing sophisticated recurrent neural network architectures, such as the encoder-decoder model.\n",
        "\n",
        "\n",
        "## `input_shape` of LSTM Model - `input_shape` is supposed to be (timesteps, n_features).\n",
        "\n",
        "    input_shape = (95000,360)\n",
        "\n",
        "Keras LSTM takes and input with shape of (n_examples, n_times, n_features) and your layers input has to have this shape\n",
        "\n",
        "To give you an example: if I'm observing the amount of rain and the temperature each hour for 24h in order to predict the weather (1 = good, 0 = bad), and I do that for 365 days, I will have 365 samples, each of which will have 24 timesteps, and 2 variables (one for rain, one for temperature), so my input is going to have the shape (365, 24, 2), and input_shape = (24, 2)\n",
        "\n",
        "\n",
        "## `return_sequences=True`\n",
        "\n",
        "The original LSTM model is comprised of a single hidden LSTM layer followed by a standard feedforward output layer.\n",
        "\n",
        "The Stacked LSTM is an extension to this model that has multiple hidden LSTM layers where each layer contains multiple memory cells.\n",
        "\n",
        "You must set return_sequences=True when stacking LSTM layers so that the second LSTM layer has a compatible n-dimensional sequence input. \n",
        "\n",
        "#### To stack LSTM layers, we need to change the configuration of the prior LSTM layer to output a compatible n-dim array as input for the subsequent layer.\n",
        "\n",
        "We can do this by setting the return_sequences argument on the layer to True (defaults to False). This will return one output for each input time step and provide the compatible n-dim array.\n",
        "\n",
        "## Why Increase Depth of an LSTM ?\n",
        "\n",
        "Stacking LSTM hidden layers makes the model deeper, more accurately earning the description as a deep learning technique.\n",
        "\n",
        "It is the depth of neural networks that is generally attributed to the success of the approach on a wide range of challenging prediction problems.\n",
        "\n",
        "Additional hidden layers can be added to a Multilayer Perceptron neural network to make it deeper. The additional hidden layers are understood to recombine the learned representation from prior layers and create new representations at high levels of abstraction. For example, from lines to shapes to objects.\n",
        "\n",
        "A sufficiently large single hidden layer Multilayer Perceptron can be used to approximate most functions. Increasing the depth of the network provides an alternate solution that requires fewer neurons and trains faster. Ultimately, adding depth it is a type of representational optimization.\n",
        "\n",
        "Given that LSTMs operate on sequence data, it means that the addition of layers adds levels of abstraction of input observations over time. In effect, chunking observations over time or representing the problem at different time scales.\n",
        "\n",
        "Stacked LSTMs are now a stable technique for challenging sequence prediction problems. \n",
        "\n",
        "# Final LSTM "
      ],
      "id": "d9e2a97b"
    },
    {
      "cell_type": "code",
      "metadata": {
        "execution": {
          "iopub.execute_input": "2021-11-09T08:24:01.176093Z",
          "iopub.status.busy": "2021-11-09T08:24:01.175247Z",
          "iopub.status.idle": "2021-11-09T08:24:01.178428Z",
          "shell.execute_reply": "2021-11-09T08:24:01.178951Z",
          "shell.execute_reply.started": "2021-11-09T07:53:28.540294Z"
        },
        "papermill": {
          "duration": 0.060031,
          "end_time": "2021-11-09T08:24:01.179115",
          "exception": false,
          "start_time": "2021-11-09T08:24:01.119084",
          "status": "completed"
        },
        "tags": [],
        "id": "4438cf67",
        "outputId": "1db84762-e5e1-490d-cda4-b5d7d46557d9",
        "colab": {
          "base_uri": "https://localhost:8080/"
        }
      },
      "source": [
        "# First checking the values for input_shape = (trainX.shape[1], trainX.shape[2])\n",
        "# Note - `input_shape` of LSTM Model - `input_shape` is supposed to be (timesteps, n_features).\n",
        "\n",
        "print(\"trainX.shape[1] - i.e. timesteps in input_shape = (timesteps, n_features) \", trainX.shape[1])\n",
        "print(\"trainX.shape[2] - i.e. n_features in input_shape = (timesteps, n_features) \", trainX.shape[2])"
      ],
      "id": "4438cf67",
      "execution_count": 64,
      "outputs": [
        {
          "output_type": "stream",
          "name": "stdout",
          "text": [
            "trainX.shape[1] - i.e. timesteps in input_shape = (timesteps, n_features)  5\n",
            "trainX.shape[2] - i.e. n_features in input_shape = (timesteps, n_features)  1\n"
          ]
        }
      ]
    },
    {
      "cell_type": "code",
      "metadata": {
        "execution": {
          "iopub.execute_input": "2021-11-09T08:24:01.286885Z",
          "iopub.status.busy": "2021-11-09T08:24:01.285918Z",
          "iopub.status.idle": "2021-11-09T08:24:01.746820Z",
          "shell.execute_reply": "2021-11-09T08:24:01.747339Z",
          "shell.execute_reply.started": "2021-11-09T07:53:28.553350Z"
        },
        "papermill": {
          "duration": 0.51592,
          "end_time": "2021-11-09T08:24:01.747513",
          "exception": false,
          "start_time": "2021-11-09T08:24:01.231593",
          "status": "completed"
        },
        "tags": [],
        "id": "0c247041",
        "outputId": "f958483e-8eca-4dcc-9c26-b405128fbefa",
        "colab": {
          "base_uri": "https://localhost:8080/"
        }
      },
      "source": [
        "regressor = Sequential()\n",
        "\n",
        "# Adding the first LSTM layer and some Dropout regularisation\n",
        "# You must set return_sequences=True when stacking LSTM layers so that the second LSTM layer\n",
        "# has a compatible n-dimensional sequence input.\n",
        "# This hyper parameter should be set to False (which is the default value) for the last layer\n",
        "# and true for the other previous layers.\n",
        "\n",
        "regressor.add(LSTM(units = 128, activation = 'relu',return_sequences=True, input_shape = (trainX.shape[1], trainX.shape[2])))\n",
        "regressor.add(Dropout(0.2))\n",
        "\n",
        "# Adding a second LSTM layer and some Dropout regularisation\n",
        "regressor.add(LSTM(units = 64, input_shape = (trainX.shape[1], trainX.shape[2])))\n",
        "# regressor.add(LSTM(units = 64, return_sequences = True, input_shape = (trainX.shape[1], trainX.shape[2])))\n",
        "regressor.add(Dropout(0.2))\n",
        "# Note - If I plan to add 3-rd or 4-th layers of LSTM then \n",
        "# I must set return_sequences=True in the 2-nd layer above\n",
        "# so that the 3-rd LSTM layer has a compatible n-dimensional sequence input.\n",
        "\n",
        "\n",
        "# Adding a third LSTM layer and some Dropout regularisation\n",
        "# regressor.add(LSTM(units = 64, return_sequences = True, input_shape = (trainX.shape[1], trainX.shape[2])))\n",
        "# regressor.add(Dropout(0.2))\n",
        "\n",
        "\n",
        "# Adding a fourth LSTM layer and some Dropout regularisation\n",
        "# regressor.add(LSTM(units = 64, input_shape = (trainX.shape[1], trainX.shape[2])))\n",
        "# regressor.add(Dropout(0.2))\n",
        "\n",
        "\n",
        "# Adding the output layer\n",
        "regressor.add(Dense(units = 1))\n",
        "\n",
        "regressor.summary()\n"
      ],
      "id": "0c247041",
      "execution_count": 65,
      "outputs": [
        {
          "output_type": "stream",
          "name": "stdout",
          "text": [
            "Model: \"sequential_1\"\n",
            "_________________________________________________________________\n",
            " Layer (type)                Output Shape              Param #   \n",
            "=================================================================\n",
            " lstm_2 (LSTM)               (None, 5, 128)            66560     \n",
            "                                                                 \n",
            " dropout_2 (Dropout)         (None, 5, 128)            0         \n",
            "                                                                 \n",
            " lstm_3 (LSTM)               (None, 64)                49408     \n",
            "                                                                 \n",
            " dropout_3 (Dropout)         (None, 64)                0         \n",
            "                                                                 \n",
            " dense_1 (Dense)             (None, 1)                 65        \n",
            "                                                                 \n",
            "=================================================================\n",
            "Total params: 116,033\n",
            "Trainable params: 116,033\n",
            "Non-trainable params: 0\n",
            "_________________________________________________________________\n"
          ]
        }
      ]
    },
    {
      "cell_type": "code",
      "metadata": {
        "execution": {
          "iopub.execute_input": "2021-11-09T08:24:01.859939Z",
          "iopub.status.busy": "2021-11-09T08:24:01.859233Z",
          "iopub.status.idle": "2021-11-09T08:24:34.491023Z",
          "shell.execute_reply": "2021-11-09T08:24:34.491550Z",
          "shell.execute_reply.started": "2021-11-09T07:53:29.074954Z"
        },
        "papermill": {
          "duration": 32.69245,
          "end_time": "2021-11-09T08:24:34.491782",
          "exception": false,
          "start_time": "2021-11-09T08:24:01.799332",
          "status": "completed"
        },
        "tags": [],
        "id": "737a2ede",
        "outputId": "3ead2e53-d4d7-432b-d7d8-a0fb375cc5f6",
        "colab": {
          "base_uri": "https://localhost:8080/"
        }
      },
      "source": [
        "from tensorflow.keras.callbacks import ModelCheckpoint, EarlyStopping\n",
        "\n",
        "# Compiling the LSTM\n",
        "regressor.compile(optimizer = 'adam', loss = 'mean_squared_error')\n",
        "\n",
        "checkpoint_path = 'my_best_model.hdf5'\n",
        "\n",
        "checkpoint = ModelCheckpoint(filepath=checkpoint_path, \n",
        "                             monitor='val_loss',\n",
        "                             verbose=1, \n",
        "                             save_best_only=True,\n",
        "                             mode='min')\n",
        "\n",
        "\n",
        "earlystopping = EarlyStopping(monitor='val_loss', patience=10, restore_best_weights=True)\n",
        "\n",
        "callbacks = [checkpoint, earlystopping]\n",
        "\n",
        "\n",
        "history = regressor.fit(trainX, trainY, batch_size = 32, epochs = 300, verbose=1, shuffle=False, validation_data=(testX, testY), callbacks=callbacks)"
      ],
      "id": "737a2ede",
      "execution_count": 66,
      "outputs": [
        {
          "output_type": "stream",
          "name": "stdout",
          "text": [
            "Epoch 1/300\n",
            "58/61 [===========================>..] - ETA: 0s - loss: 0.0056\n",
            "Epoch 00001: val_loss improved from inf to 0.02629, saving model to my_best_model.hdf5\n",
            "61/61 [==============================] - 5s 25ms/step - loss: 0.0086 - val_loss: 0.0263\n",
            "Epoch 2/300\n",
            "57/61 [===========================>..] - ETA: 0s - loss: 0.0156\n",
            "Epoch 00002: val_loss improved from 0.02629 to 0.00789, saving model to my_best_model.hdf5\n",
            "61/61 [==============================] - 1s 14ms/step - loss: 0.0151 - val_loss: 0.0079\n",
            "Epoch 3/300\n",
            "61/61 [==============================] - ETA: 0s - loss: 0.0012    \n",
            "Epoch 00003: val_loss improved from 0.00789 to 0.00754, saving model to my_best_model.hdf5\n",
            "61/61 [==============================] - 1s 15ms/step - loss: 0.0012 - val_loss: 0.0075\n",
            "Epoch 4/300\n",
            "61/61 [==============================] - ETA: 0s - loss: 9.4123e-04\n",
            "Epoch 00004: val_loss did not improve from 0.00754\n",
            "61/61 [==============================] - 1s 14ms/step - loss: 9.4123e-04 - val_loss: 0.0082\n",
            "Epoch 5/300\n",
            "58/61 [===========================>..] - ETA: 0s - loss: 0.0018\n",
            "Epoch 00005: val_loss did not improve from 0.00754\n",
            "61/61 [==============================] - 1s 14ms/step - loss: 0.0024 - val_loss: 0.0082\n",
            "Epoch 6/300\n",
            "57/61 [===========================>..] - ETA: 0s - loss: 0.0020\n",
            "Epoch 00006: val_loss did not improve from 0.00754\n",
            "61/61 [==============================] - 1s 14ms/step - loss: 0.0022 - val_loss: 0.0078\n",
            "Epoch 7/300\n",
            "57/61 [===========================>..] - ETA: 0s - loss: 6.0503e-04\n",
            "Epoch 00007: val_loss improved from 0.00754 to 0.00737, saving model to my_best_model.hdf5\n",
            "61/61 [==============================] - 1s 15ms/step - loss: 9.0845e-04 - val_loss: 0.0074\n",
            "Epoch 8/300\n",
            "58/61 [===========================>..] - ETA: 0s - loss: 4.5748e-04\n",
            "Epoch 00008: val_loss did not improve from 0.00737\n",
            "61/61 [==============================] - 1s 14ms/step - loss: 7.2001e-04 - val_loss: 0.0082\n",
            "Epoch 9/300\n",
            "58/61 [===========================>..] - ETA: 0s - loss: 0.0013\n",
            "Epoch 00009: val_loss improved from 0.00737 to 0.00697, saving model to my_best_model.hdf5\n",
            "61/61 [==============================] - 1s 15ms/step - loss: 0.0015 - val_loss: 0.0070\n",
            "Epoch 10/300\n",
            "57/61 [===========================>..] - ETA: 0s - loss: 6.1128e-04\n",
            "Epoch 00010: val_loss did not improve from 0.00697\n",
            "61/61 [==============================] - 1s 14ms/step - loss: 8.2650e-04 - val_loss: 0.0071\n",
            "Epoch 11/300\n",
            "58/61 [===========================>..] - ETA: 0s - loss: 4.3676e-04\n",
            "Epoch 00011: val_loss did not improve from 0.00697\n",
            "61/61 [==============================] - 1s 14ms/step - loss: 6.8345e-04 - val_loss: 0.0070\n",
            "Epoch 12/300\n",
            "61/61 [==============================] - ETA: 0s - loss: 6.6482e-04\n",
            "Epoch 00012: val_loss did not improve from 0.00697\n",
            "61/61 [==============================] - 1s 14ms/step - loss: 6.6482e-04 - val_loss: 0.0081\n",
            "Epoch 13/300\n",
            "58/61 [===========================>..] - ETA: 0s - loss: 0.0021\n",
            "Epoch 00013: val_loss did not improve from 0.00697\n",
            "61/61 [==============================] - 1s 14ms/step - loss: 0.0026 - val_loss: 0.0097\n",
            "Epoch 14/300\n",
            "60/61 [============================>.] - ETA: 0s - loss: 0.0061\n",
            "Epoch 00014: val_loss did not improve from 0.00697\n",
            "61/61 [==============================] - 1s 14ms/step - loss: 0.0061 - val_loss: 0.0073\n",
            "Epoch 15/300\n",
            "58/61 [===========================>..] - ETA: 0s - loss: 0.0024\n",
            "Epoch 00015: val_loss did not improve from 0.00697\n",
            "61/61 [==============================] - 1s 14ms/step - loss: 0.0030 - val_loss: 0.0087\n",
            "Epoch 16/300\n",
            "59/61 [============================>.] - ETA: 0s - loss: 0.0024\n",
            "Epoch 00016: val_loss did not improve from 0.00697\n",
            "61/61 [==============================] - 1s 14ms/step - loss: 0.0029 - val_loss: 0.0070\n",
            "Epoch 17/300\n",
            "57/61 [===========================>..] - ETA: 0s - loss: 0.0034\n",
            "Epoch 00017: val_loss improved from 0.00697 to 0.00674, saving model to my_best_model.hdf5\n",
            "61/61 [==============================] - 1s 15ms/step - loss: 0.0035 - val_loss: 0.0067\n",
            "Epoch 18/300\n",
            "58/61 [===========================>..] - ETA: 0s - loss: 6.5439e-04\n",
            "Epoch 00018: val_loss did not improve from 0.00674\n",
            "61/61 [==============================] - 1s 14ms/step - loss: 8.8298e-04 - val_loss: 0.0069\n",
            "Epoch 19/300\n",
            "61/61 [==============================] - ETA: 0s - loss: 0.0020\n",
            "Epoch 00019: val_loss improved from 0.00674 to 0.00649, saving model to my_best_model.hdf5\n",
            "61/61 [==============================] - 1s 14ms/step - loss: 0.0020 - val_loss: 0.0065\n",
            "Epoch 20/300\n",
            "61/61 [==============================] - ETA: 0s - loss: 0.0037\n",
            "Epoch 00020: val_loss did not improve from 0.00649\n",
            "61/61 [==============================] - 1s 14ms/step - loss: 0.0037 - val_loss: 0.0068\n",
            "Epoch 21/300\n",
            "60/61 [============================>.] - ETA: 0s - loss: 0.0015\n",
            "Epoch 00021: val_loss improved from 0.00649 to 0.00634, saving model to my_best_model.hdf5\n",
            "61/61 [==============================] - 1s 15ms/step - loss: 0.0015 - val_loss: 0.0063\n",
            "Epoch 22/300\n",
            "58/61 [===========================>..] - ETA: 0s - loss: 0.0015\n",
            "Epoch 00022: val_loss did not improve from 0.00634\n",
            "61/61 [==============================] - 1s 14ms/step - loss: 0.0018 - val_loss: 0.0065\n",
            "Epoch 23/300\n",
            "58/61 [===========================>..] - ETA: 0s - loss: 6.0978e-04\n",
            "Epoch 00023: val_loss improved from 0.00634 to 0.00622, saving model to my_best_model.hdf5\n",
            "61/61 [==============================] - 1s 14ms/step - loss: 9.8129e-04 - val_loss: 0.0062\n",
            "Epoch 24/300\n",
            "60/61 [============================>.] - ETA: 0s - loss: 6.7264e-04\n",
            "Epoch 00024: val_loss did not improve from 0.00622\n",
            "61/61 [==============================] - 1s 14ms/step - loss: 6.7239e-04 - val_loss: 0.0063\n",
            "Epoch 25/300\n",
            "60/61 [============================>.] - ETA: 0s - loss: 6.1222e-04\n",
            "Epoch 00025: val_loss did not improve from 0.00622\n",
            "61/61 [==============================] - 1s 14ms/step - loss: 6.1569e-04 - val_loss: 0.0067\n",
            "Epoch 26/300\n",
            "58/61 [===========================>..] - ETA: 0s - loss: 0.0017\n",
            "Epoch 00026: val_loss did not improve from 0.00622\n",
            "61/61 [==============================] - 1s 14ms/step - loss: 0.0018 - val_loss: 0.0063\n",
            "Epoch 27/300\n",
            "58/61 [===========================>..] - ETA: 0s - loss: 0.0011\n",
            "Epoch 00027: val_loss did not improve from 0.00622\n",
            "61/61 [==============================] - 1s 14ms/step - loss: 0.0014 - val_loss: 0.0065\n",
            "Epoch 28/300\n",
            "61/61 [==============================] - ETA: 0s - loss: 8.6805e-04\n",
            "Epoch 00028: val_loss did not improve from 0.00622\n",
            "61/61 [==============================] - 1s 15ms/step - loss: 8.6805e-04 - val_loss: 0.0067\n",
            "Epoch 29/300\n",
            "57/61 [===========================>..] - ETA: 0s - loss: 9.9530e-04\n",
            "Epoch 00029: val_loss did not improve from 0.00622\n",
            "61/61 [==============================] - 1s 14ms/step - loss: 0.0014 - val_loss: 0.0064\n",
            "Epoch 30/300\n",
            "60/61 [============================>.] - ETA: 0s - loss: 0.0027\n",
            "Epoch 00030: val_loss improved from 0.00622 to 0.00604, saving model to my_best_model.hdf5\n",
            "61/61 [==============================] - 1s 15ms/step - loss: 0.0027 - val_loss: 0.0060\n",
            "Epoch 31/300\n",
            "57/61 [===========================>..] - ETA: 0s - loss: 8.6134e-04\n",
            "Epoch 00031: val_loss did not improve from 0.00604\n",
            "61/61 [==============================] - 1s 14ms/step - loss: 0.0013 - val_loss: 0.0085\n",
            "Epoch 32/300\n",
            "61/61 [==============================] - ETA: 0s - loss: 0.0050\n",
            "Epoch 00032: val_loss did not improve from 0.00604\n",
            "61/61 [==============================] - 1s 14ms/step - loss: 0.0050 - val_loss: 0.0114\n",
            "Epoch 33/300\n",
            "60/61 [============================>.] - ETA: 0s - loss: 0.0051\n",
            "Epoch 00033: val_loss improved from 0.00604 to 0.00560, saving model to my_best_model.hdf5\n",
            "61/61 [==============================] - 1s 15ms/step - loss: 0.0051 - val_loss: 0.0056\n",
            "Epoch 34/300\n",
            "58/61 [===========================>..] - ETA: 0s - loss: 0.0014\n",
            "Epoch 00034: val_loss did not improve from 0.00560\n",
            "61/61 [==============================] - 1s 14ms/step - loss: 0.0017 - val_loss: 0.0062\n",
            "Epoch 35/300\n",
            "59/61 [============================>.] - ETA: 0s - loss: 6.8333e-04\n",
            "Epoch 00035: val_loss did not improve from 0.00560\n",
            "61/61 [==============================] - 1s 14ms/step - loss: 7.8628e-04 - val_loss: 0.0058\n",
            "Epoch 36/300\n",
            "60/61 [============================>.] - ETA: 0s - loss: 0.0011    \n",
            "Epoch 00036: val_loss improved from 0.00560 to 0.00556, saving model to my_best_model.hdf5\n",
            "61/61 [==============================] - 1s 15ms/step - loss: 0.0011 - val_loss: 0.0056\n",
            "Epoch 37/300\n",
            "60/61 [============================>.] - ETA: 0s - loss: 0.0019\n",
            "Epoch 00037: val_loss did not improve from 0.00556\n",
            "61/61 [==============================] - 1s 15ms/step - loss: 0.0019 - val_loss: 0.0058\n",
            "Epoch 38/300\n",
            "60/61 [============================>.] - ETA: 0s - loss: 9.3305e-04\n",
            "Epoch 00038: val_loss did not improve from 0.00556\n",
            "61/61 [==============================] - 1s 15ms/step - loss: 9.3549e-04 - val_loss: 0.0059\n",
            "Epoch 39/300\n",
            "59/61 [============================>.] - ETA: 0s - loss: 9.6269e-04\n",
            "Epoch 00039: val_loss did not improve from 0.00556\n",
            "61/61 [==============================] - 1s 14ms/step - loss: 0.0012 - val_loss: 0.0058\n",
            "Epoch 40/300\n",
            "60/61 [============================>.] - ETA: 0s - loss: 0.0039\n",
            "Epoch 00040: val_loss did not improve from 0.00556\n",
            "61/61 [==============================] - 1s 14ms/step - loss: 0.0039 - val_loss: 0.0063\n",
            "Epoch 41/300\n",
            "58/61 [===========================>..] - ETA: 0s - loss: 0.0018\n",
            "Epoch 00041: val_loss did not improve from 0.00556\n",
            "61/61 [==============================] - 1s 14ms/step - loss: 0.0021 - val_loss: 0.0062\n",
            "Epoch 42/300\n",
            "59/61 [============================>.] - ETA: 0s - loss: 4.6976e-04\n",
            "Epoch 00042: val_loss did not improve from 0.00556\n",
            "61/61 [==============================] - 1s 14ms/step - loss: 6.6158e-04 - val_loss: 0.0062\n",
            "Epoch 43/300\n",
            "59/61 [============================>.] - ETA: 0s - loss: 0.0011\n",
            "Epoch 00043: val_loss did not improve from 0.00556\n",
            "61/61 [==============================] - 1s 14ms/step - loss: 0.0013 - val_loss: 0.0069\n",
            "Epoch 44/300\n",
            "59/61 [============================>.] - ETA: 0s - loss: 0.0025\n",
            "Epoch 00044: val_loss did not improve from 0.00556\n",
            "61/61 [==============================] - 1s 15ms/step - loss: 0.0035 - val_loss: 0.0099\n",
            "Epoch 45/300\n",
            "57/61 [===========================>..] - ETA: 0s - loss: 0.0045\n",
            "Epoch 00045: val_loss improved from 0.00556 to 0.00553, saving model to my_best_model.hdf5\n",
            "61/61 [==============================] - 1s 15ms/step - loss: 0.0045 - val_loss: 0.0055\n",
            "Epoch 46/300\n",
            "57/61 [===========================>..] - ETA: 0s - loss: 0.0013\n",
            "Epoch 00046: val_loss improved from 0.00553 to 0.00541, saving model to my_best_model.hdf5\n",
            "61/61 [==============================] - 1s 15ms/step - loss: 0.0015 - val_loss: 0.0054\n",
            "Epoch 47/300\n",
            "61/61 [==============================] - ETA: 0s - loss: 6.7126e-04\n",
            "Epoch 00047: val_loss did not improve from 0.00541\n",
            "61/61 [==============================] - 1s 14ms/step - loss: 6.7126e-04 - val_loss: 0.0055\n",
            "Epoch 48/300\n",
            "57/61 [===========================>..] - ETA: 0s - loss: 5.5565e-04\n",
            "Epoch 00048: val_loss improved from 0.00541 to 0.00527, saving model to my_best_model.hdf5\n",
            "61/61 [==============================] - 1s 15ms/step - loss: 0.0010 - val_loss: 0.0053\n",
            "Epoch 49/300\n",
            "57/61 [===========================>..] - ETA: 0s - loss: 0.0036\n",
            "Epoch 00049: val_loss did not improve from 0.00527\n",
            "61/61 [==============================] - 1s 14ms/step - loss: 0.0037 - val_loss: 0.0055\n",
            "Epoch 50/300\n",
            "61/61 [==============================] - ETA: 0s - loss: 0.0012\n",
            "Epoch 00050: val_loss did not improve from 0.00527\n",
            "61/61 [==============================] - 1s 14ms/step - loss: 0.0012 - val_loss: 0.0053\n",
            "Epoch 51/300\n",
            "60/61 [============================>.] - ETA: 0s - loss: 5.9979e-04\n",
            "Epoch 00051: val_loss did not improve from 0.00527\n",
            "61/61 [==============================] - 1s 14ms/step - loss: 6.0538e-04 - val_loss: 0.0055\n",
            "Epoch 52/300\n",
            "61/61 [==============================] - ETA: 0s - loss: 0.0019\n",
            "Epoch 00052: val_loss did not improve from 0.00527\n",
            "61/61 [==============================] - 1s 14ms/step - loss: 0.0019 - val_loss: 0.0054\n",
            "Epoch 53/300\n",
            "57/61 [===========================>..] - ETA: 0s - loss: 9.3873e-04\n",
            "Epoch 00053: val_loss did not improve from 0.00527\n",
            "61/61 [==============================] - 1s 14ms/step - loss: 0.0017 - val_loss: 0.0063\n",
            "Epoch 54/300\n",
            "58/61 [===========================>..] - ETA: 0s - loss: 0.0029\n",
            "Epoch 00054: val_loss did not improve from 0.00527\n",
            "61/61 [==============================] - 1s 14ms/step - loss: 0.0030 - val_loss: 0.0053\n",
            "Epoch 55/300\n",
            "57/61 [===========================>..] - ETA: 0s - loss: 5.9529e-04\n",
            "Epoch 00055: val_loss improved from 0.00527 to 0.00509, saving model to my_best_model.hdf5\n",
            "61/61 [==============================] - 1s 15ms/step - loss: 8.6124e-04 - val_loss: 0.0051\n",
            "Epoch 56/300\n",
            "60/61 [============================>.] - ETA: 0s - loss: 6.7448e-04\n",
            "Epoch 00056: val_loss did not improve from 0.00509\n",
            "61/61 [==============================] - 1s 15ms/step - loss: 6.7833e-04 - val_loss: 0.0051\n",
            "Epoch 57/300\n",
            "57/61 [===========================>..] - ETA: 0s - loss: 0.0015\n",
            "Epoch 00057: val_loss improved from 0.00509 to 0.00507, saving model to my_best_model.hdf5\n",
            "61/61 [==============================] - 1s 15ms/step - loss: 0.0017 - val_loss: 0.0051\n",
            "Epoch 58/300\n",
            "61/61 [==============================] - ETA: 0s - loss: 7.0505e-04\n",
            "Epoch 00058: val_loss improved from 0.00507 to 0.00493, saving model to my_best_model.hdf5\n",
            "61/61 [==============================] - 1s 15ms/step - loss: 7.0505e-04 - val_loss: 0.0049\n",
            "Epoch 59/300\n",
            "59/61 [============================>.] - ETA: 0s - loss: 0.0020\n",
            "Epoch 00059: val_loss did not improve from 0.00493\n",
            "61/61 [==============================] - 1s 14ms/step - loss: 0.0022 - val_loss: 0.0054\n",
            "Epoch 60/300\n",
            "58/61 [===========================>..] - ETA: 0s - loss: 4.3345e-04\n",
            "Epoch 00060: val_loss did not improve from 0.00493\n",
            "61/61 [==============================] - 1s 14ms/step - loss: 6.2449e-04 - val_loss: 0.0050\n",
            "Epoch 61/300\n",
            "60/61 [============================>.] - ETA: 0s - loss: 7.5462e-04\n",
            "Epoch 00061: val_loss did not improve from 0.00493\n",
            "61/61 [==============================] - 1s 15ms/step - loss: 7.5424e-04 - val_loss: 0.0052\n",
            "Epoch 62/300\n",
            "60/61 [============================>.] - ETA: 0s - loss: 5.0640e-04\n",
            "Epoch 00062: val_loss did not improve from 0.00493\n",
            "61/61 [==============================] - 1s 14ms/step - loss: 5.0614e-04 - val_loss: 0.0050\n",
            "Epoch 63/300\n",
            "60/61 [============================>.] - ETA: 0s - loss: 6.1311e-04\n",
            "Epoch 00063: val_loss improved from 0.00493 to 0.00492, saving model to my_best_model.hdf5\n",
            "61/61 [==============================] - 1s 15ms/step - loss: 6.1279e-04 - val_loss: 0.0049\n",
            "Epoch 64/300\n",
            "57/61 [===========================>..] - ETA: 0s - loss: 3.0415e-04\n",
            "Epoch 00064: val_loss did not improve from 0.00492\n",
            "61/61 [==============================] - 1s 15ms/step - loss: 5.9239e-04 - val_loss: 0.0056\n",
            "Epoch 65/300\n",
            "57/61 [===========================>..] - ETA: 0s - loss: 0.0026\n",
            "Epoch 00065: val_loss did not improve from 0.00492\n",
            "61/61 [==============================] - 1s 14ms/step - loss: 0.0027 - val_loss: 0.0053\n",
            "Epoch 66/300\n",
            "57/61 [===========================>..] - ETA: 0s - loss: 7.4485e-04\n",
            "Epoch 00066: val_loss improved from 0.00492 to 0.00485, saving model to my_best_model.hdf5\n",
            "61/61 [==============================] - 1s 15ms/step - loss: 0.0010 - val_loss: 0.0049\n",
            "Epoch 67/300\n",
            "58/61 [===========================>..] - ETA: 0s - loss: 9.7803e-04\n",
            "Epoch 00067: val_loss did not improve from 0.00485\n",
            "61/61 [==============================] - 1s 14ms/step - loss: 0.0011 - val_loss: 0.0051\n",
            "Epoch 68/300\n",
            "60/61 [============================>.] - ETA: 0s - loss: 6.8575e-04\n",
            "Epoch 00068: val_loss did not improve from 0.00485\n",
            "61/61 [==============================] - 1s 14ms/step - loss: 6.8905e-04 - val_loss: 0.0053\n",
            "Epoch 69/300\n",
            "57/61 [===========================>..] - ETA: 0s - loss: 5.0516e-04\n",
            "Epoch 00069: val_loss did not improve from 0.00485\n",
            "61/61 [==============================] - 1s 14ms/step - loss: 7.7464e-04 - val_loss: 0.0051\n",
            "Epoch 70/300\n",
            "57/61 [===========================>..] - ETA: 0s - loss: 6.8909e-04\n",
            "Epoch 00070: val_loss did not improve from 0.00485\n",
            "61/61 [==============================] - 1s 14ms/step - loss: 0.0011 - val_loss: 0.0049\n",
            "Epoch 71/300\n",
            "59/61 [============================>.] - ETA: 0s - loss: 0.0026\n",
            "Epoch 00071: val_loss did not improve from 0.00485\n",
            "61/61 [==============================] - 1s 15ms/step - loss: 0.0028 - val_loss: 0.0053\n",
            "Epoch 72/300\n",
            "60/61 [============================>.] - ETA: 0s - loss: 0.0015\n",
            "Epoch 00072: val_loss did not improve from 0.00485\n",
            "61/61 [==============================] - 1s 15ms/step - loss: 0.0015 - val_loss: 0.0053\n",
            "Epoch 73/300\n",
            "57/61 [===========================>..] - ETA: 0s - loss: 5.4544e-04\n",
            "Epoch 00073: val_loss did not improve from 0.00485\n",
            "61/61 [==============================] - 1s 15ms/step - loss: 7.9064e-04 - val_loss: 0.0051\n",
            "Epoch 74/300\n",
            "59/61 [============================>.] - ETA: 0s - loss: 0.0014\n",
            "Epoch 00074: val_loss did not improve from 0.00485\n",
            "61/61 [==============================] - 1s 15ms/step - loss: 0.0021 - val_loss: 0.0061\n",
            "Epoch 75/300\n",
            "57/61 [===========================>..] - ETA: 0s - loss: 0.0050\n",
            "Epoch 00075: val_loss did not improve from 0.00485\n",
            "61/61 [==============================] - 1s 14ms/step - loss: 0.0057 - val_loss: 0.0083\n",
            "Epoch 76/300\n",
            "57/61 [===========================>..] - ETA: 0s - loss: 0.0026\n",
            "Epoch 00076: val_loss did not improve from 0.00485\n",
            "61/61 [==============================] - 1s 14ms/step - loss: 0.0028 - val_loss: 0.0049\n"
          ]
        }
      ]
    },
    {
      "cell_type": "markdown",
      "metadata": {
        "papermill": {
          "duration": 0.21913,
          "end_time": "2021-11-09T08:24:34.927854",
          "exception": false,
          "start_time": "2021-11-09T08:24:34.708724",
          "status": "completed"
        },
        "tags": [],
        "id": "e8f20e1d"
      },
      "source": [
        "## Plot line graph to show Loss Numbers relative to the epoch"
      ],
      "id": "e8f20e1d"
    },
    {
      "cell_type": "code",
      "metadata": {
        "execution": {
          "iopub.execute_input": "2021-11-09T08:24:35.370435Z",
          "iopub.status.busy": "2021-11-09T08:24:35.369774Z",
          "iopub.status.idle": "2021-11-09T08:24:45.892279Z",
          "shell.execute_reply": "2021-11-09T08:24:45.892858Z",
          "shell.execute_reply.started": "2021-11-09T07:54:22.907318Z"
        },
        "papermill": {
          "duration": 10.74732,
          "end_time": "2021-11-09T08:24:45.893042",
          "exception": false,
          "start_time": "2021-11-09T08:24:35.145722",
          "status": "completed"
        },
        "tags": [],
        "id": "7b511a52"
      },
      "source": [
        "from tensorflow.keras.models import load_model\n",
        "\n",
        "model_from_saved_checkpoint = load_model(checkpoint_path)"
      ],
      "id": "7b511a52",
      "execution_count": 67,
      "outputs": []
    },
    {
      "cell_type": "code",
      "metadata": {
        "execution": {
          "iopub.execute_input": "2021-11-09T08:24:46.325426Z",
          "iopub.status.busy": "2021-11-09T08:24:46.324389Z",
          "iopub.status.idle": "2021-11-09T08:24:46.568908Z",
          "shell.execute_reply": "2021-11-09T08:24:46.569365Z",
          "shell.execute_reply.started": "2021-11-09T07:54:23.288972Z"
        },
        "papermill": {
          "duration": 0.46139,
          "end_time": "2021-11-09T08:24:46.569557",
          "exception": false,
          "start_time": "2021-11-09T08:24:46.108167",
          "status": "completed"
        },
        "tags": [],
        "id": "75ef7aa9",
        "outputId": "abbb7aea-ac25-44f3-cc62-3aae6cf7bd20",
        "colab": {
          "base_uri": "https://localhost:8080/",
          "height": 0
        }
      },
      "source": [
        "plt.figure(figsize=(16,7))\n",
        "plt.plot(history.history['loss'], label='train')\n",
        "\n",
        "plt.plot(history.history['val_loss'], label='test')\n",
        "plt.legend()\n",
        "plt.show()"
      ],
      "id": "75ef7aa9",
      "execution_count": 68,
      "outputs": [
        {
          "output_type": "display_data",
          "data": {
            "image/png": "[encoded data removed]",
            "text/plain": [
              "<Figure size 1152x504 with 1 Axes>"
            ]
          },
          "metadata": {}
        }
      ]
    },
    {
      "cell_type": "markdown",
      "metadata": {
        "papermill": {
          "duration": 0.217811,
          "end_time": "2021-11-09T08:24:47.005353",
          "exception": false,
          "start_time": "2021-11-09T08:24:46.787542",
          "status": "completed"
        },
        "tags": [],
        "id": "b59b2596"
      },
      "source": [
        "# LSTM Predictions using testX and plotting line graph against Actual testY\n",
        "\n",
        "Due to scaling step done earlier with MinMaxScaler the predicted scale is between 0 and 1. \n",
        "Now, I need to transfer this scale to the original data scale (real value). for example:[0.58439621 0.58439621 0.58439621 ... 0.81262134 0.81262134 0.81262134], the pred answer transfer to :[250 100 50 60 .....]\n",
        "So here I am going to use `inverse_transform` to Scale back the data to the original representation."
      ],
      "id": "b59b2596"
    },
    {
      "cell_type": "code",
      "metadata": {
        "execution": {
          "iopub.execute_input": "2021-11-09T08:24:47.442254Z",
          "iopub.status.busy": "2021-11-09T08:24:47.441292Z",
          "iopub.status.idle": "2021-11-09T08:24:48.147090Z",
          "shell.execute_reply": "2021-11-09T08:24:48.148309Z",
          "shell.execute_reply.started": "2021-11-09T07:54:23.503949Z"
        },
        "papermill": {
          "duration": 0.924691,
          "end_time": "2021-11-09T08:24:48.148562",
          "exception": false,
          "start_time": "2021-11-09T08:24:47.223871",
          "status": "completed"
        },
        "tags": [],
        "id": "4a57e509"
      },
      "source": [
        "# Transformation to original form and making the predictions\n",
        "\n",
        "# predicted_btc_price_test_data = regressor.predict(testX)\n",
        "predicted_btc_price_test_data = model_from_saved_checkpoint.predict(testX)\n",
        "\n",
        "predicted_btc_price_test_data = scaler_test.inverse_transform(predicted_btc_price_test_data.reshape(-1, 1))\n",
        "\n",
        "test_actual = scaler_test.inverse_transform(testY.reshape(-1, 1))"
      ],
      "id": "4a57e509",
      "execution_count": 69,
      "outputs": []
    },
    {
      "cell_type": "code",
      "metadata": {
        "execution": {
          "iopub.execute_input": "2021-11-09T08:24:48.631238Z",
          "iopub.status.busy": "2021-11-09T08:24:48.630519Z",
          "iopub.status.idle": "2021-11-09T08:24:48.869179Z",
          "shell.execute_reply": "2021-11-09T08:24:48.868519Z",
          "shell.execute_reply.started": "2021-11-09T07:54:24.206344Z"
        },
        "papermill": {
          "duration": 0.475269,
          "end_time": "2021-11-09T08:24:48.869315",
          "exception": false,
          "start_time": "2021-11-09T08:24:48.394046",
          "status": "completed"
        },
        "tags": [],
        "id": "6fe4f8e1",
        "outputId": "85db00b7-da5e-4a45-b29a-86216aef15d4",
        "colab": {
          "base_uri": "https://localhost:8080/",
          "height": 425
        }
      },
      "source": [
        "plt.figure(figsize=(16,7))\n",
        "\n",
        "plt.plot(predicted_btc_price_test_data, 'r', marker='.', label='Predicted Test')\n",
        "\n",
        "plt.plot(test_actual, marker='.', label='Actual Test')\n",
        "\n",
        "plt.legend()\n",
        "plt.show()"
      ],
      "id": "6fe4f8e1",
      "execution_count": 70,
      "outputs": [
        {
          "output_type": "display_data",
          "data": {
            "image/png": "[encoded data removed]",
            "text/plain": [
              "<Figure size 1152x504 with 1 Axes>"
            ]
          },
          "metadata": {}
        }
      ]
    },
    {
      "cell_type": "markdown",
      "metadata": {
        "papermill": {
          "duration": 0.238642,
          "end_time": "2021-11-09T08:24:49.336671",
          "exception": false,
          "start_time": "2021-11-09T08:24:49.098029",
          "status": "completed"
        },
        "tags": [],
        "id": "61e60010"
      },
      "source": [
        "# LSTM Prediction using trainX and plotting line graph against Actual trainY"
      ],
      "id": "61e60010"
    },
    {
      "cell_type": "code",
      "metadata": {
        "execution": {
          "iopub.execute_input": "2021-11-09T08:24:49.804710Z",
          "iopub.status.busy": "2021-11-09T08:24:49.804055Z",
          "iopub.status.idle": "2021-11-09T08:24:50.080720Z",
          "shell.execute_reply": "2021-11-09T08:24:50.079836Z",
          "shell.execute_reply.started": "2021-11-09T07:54:24.406259Z"
        },
        "papermill": {
          "duration": 0.514588,
          "end_time": "2021-11-09T08:24:50.080872",
          "exception": false,
          "start_time": "2021-11-09T08:24:49.566284",
          "status": "completed"
        },
        "tags": [],
        "id": "e2be035e"
      },
      "source": [
        "# Transformation to original form and making the predictions\n",
        "\n",
        "predicted_btc_price_train_data = model_from_saved_checkpoint.predict(trainX)\n",
        "\n",
        "predicted_btc_price_train_data = scaler_train.inverse_transform(predicted_btc_price_train_data.reshape(-1, 1))\n",
        "\n",
        "train_actual = scaler_train.inverse_transform(trainY.reshape(-1, 1))"
      ],
      "id": "e2be035e",
      "execution_count": 71,
      "outputs": []
    },
    {
      "cell_type": "code",
      "metadata": {
        "execution": {
          "iopub.execute_input": "2021-11-09T08:24:50.553036Z",
          "iopub.status.busy": "2021-11-09T08:24:50.548756Z",
          "iopub.status.idle": "2021-11-09T08:24:50.791501Z",
          "shell.execute_reply": "2021-11-09T08:24:50.791940Z",
          "shell.execute_reply.started": "2021-11-09T07:54:24.729679Z"
        },
        "papermill": {
          "duration": 0.481274,
          "end_time": "2021-11-09T08:24:50.792100",
          "exception": false,
          "start_time": "2021-11-09T08:24:50.310826",
          "status": "completed"
        },
        "tags": [],
        "id": "68fe8243",
        "outputId": "3ae19404-16da-4c4f-8897-fc21489064ca",
        "colab": {
          "base_uri": "https://localhost:8080/",
          "height": 425
        }
      },
      "source": [
        "plt.figure(figsize=(16,7))\n",
        "\n",
        "plt.plot(predicted_btc_price_train_data, 'r', marker='.', label='Predicted Train')\n",
        "\n",
        "plt.plot(train_actual, marker='.', label='Actual Train')\n",
        "\n",
        "plt.legend()\n",
        "plt.show()"
      ],
      "id": "68fe8243",
      "execution_count": 72,
      "outputs": [
        {
          "output_type": "display_data",
          "data": {
            "image/png": "[encoded data removed]",
            "text/plain": [
              "<Figure size 1152x504 with 1 Axes>"
            ]
          },
          "metadata": {}
        }
      ]
    },
    {
      "cell_type": "markdown",
      "metadata": {
        "papermill": {
          "duration": 0.217656,
          "end_time": "2021-11-09T08:24:51.229330",
          "exception": false,
          "start_time": "2021-11-09T08:24:51.011674",
          "status": "completed"
        },
        "tags": [],
        "id": "0c0ddaef"
      },
      "source": [
        "# RMSE - Test Data"
      ],
      "id": "0c0ddaef"
    },
    {
      "cell_type": "code",
      "metadata": {
        "execution": {
          "iopub.execute_input": "2021-11-09T08:24:51.673734Z",
          "iopub.status.busy": "2021-11-09T08:24:51.672794Z",
          "iopub.status.idle": "2021-11-09T08:24:51.678780Z",
          "shell.execute_reply": "2021-11-09T08:24:51.679241Z",
          "shell.execute_reply.started": "2021-11-09T07:54:24.941735Z"
        },
        "papermill": {
          "duration": 0.229983,
          "end_time": "2021-11-09T08:24:51.679408",
          "exception": false,
          "start_time": "2021-11-09T08:24:51.449425",
          "status": "completed"
        },
        "tags": [],
        "id": "f528eac3",
        "outputId": "27fad6d2-59fc-414a-d437-62c7a549bf9b",
        "colab": {
          "base_uri": "https://localhost:8080/"
        }
      },
      "source": [
        "rmse_lstm_test = math.sqrt(mean_squared_error(test_actual, predicted_btc_price_test_data))\n",
        "\n",
        "print('Test RMSE: %.3f' % rmse_lstm_test)\n",
        "\n",
        "from sklearn.metrics import r2_score\n",
        "\n",
        "coefficient_of_dermination = r2_score(predicted_btc_price_test_data, test_actual)\n",
        "print('Test R squareed: %.3f' % coefficient_of_dermination)\n",
        "# With 2 Layers + Dropout + lookback=5 => I got - Test RMSE: 1666.162  => This seems best\n"
      ],
      "id": "f528eac3",
      "execution_count": 77,
      "outputs": [
        {
          "output_type": "stream",
          "name": "stdout",
          "text": [
            "Test RMSE: 2446.923\n",
            "Test R squareed: 0.925\n"
          ]
        }
      ]
    },
    {
      "cell_type": "markdown",
      "metadata": {
        "papermill": {
          "duration": 0.219609,
          "end_time": "2021-11-09T08:24:52.119977",
          "exception": false,
          "start_time": "2021-11-09T08:24:51.900368",
          "status": "completed"
        },
        "tags": [],
        "id": "3875de26"
      },
      "source": [
        "# RMSE - Train Data"
      ],
      "id": "3875de26"
    },
    {
      "cell_type": "code",
      "metadata": {
        "execution": {
          "iopub.execute_input": "2021-11-09T08:24:52.578248Z",
          "iopub.status.busy": "2021-11-09T08:24:52.577170Z",
          "iopub.status.idle": "2021-11-09T08:24:52.583165Z",
          "shell.execute_reply": "2021-11-09T08:24:52.583695Z",
          "shell.execute_reply.started": "2021-11-09T07:54:24.950091Z"
        },
        "papermill": {
          "duration": 0.235012,
          "end_time": "2021-11-09T08:24:52.583860",
          "exception": false,
          "start_time": "2021-11-09T08:24:52.348848",
          "status": "completed"
        },
        "tags": [],
        "id": "4694569c",
        "outputId": "d8074d7c-3ba3-482e-a82c-b3bdfa3489b2",
        "colab": {
          "base_uri": "https://localhost:8080/"
        }
      },
      "source": [
        "rmse_lstm_train = math.sqrt(mean_squared_error(train_actual, predicted_btc_price_train_data))\n",
        "from sklearn.metrics import r2_score\n",
        "\n",
        "print('Test RMSE: %.3f' % rmse_lstm_train)\n",
        "\n",
        "coefficient_of_dermination2 = r2_score(predicted_btc_price_train_data, train_actual)\n",
        "print('Test R-squared: %.3f' % coefficient_of_dermination2)\n",
        "\n",
        "# With 2 Layers + Dropout + lookback=5 => I got - Test RMSE: 1047.916  => This seems best"
      ],
      "id": "4694569c",
      "execution_count": 81,
      "outputs": [
        {
          "output_type": "stream",
          "name": "stdout",
          "text": [
            "Test RMSE: 742.828\n",
            "Test R-squared: 0.986\n"
          ]
        }
      ]
    }
  ]
}